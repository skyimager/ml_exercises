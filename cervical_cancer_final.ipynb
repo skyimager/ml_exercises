{
 "cells": [
  {
   "cell_type": "markdown",
   "metadata": {},
   "source": [
    "# Objective"
   ]
  },
  {
   "cell_type": "markdown",
   "metadata": {},
   "source": [
    "We have to predict the patients who are most likely to suffer from cervical cancer using Machine Learning algorithms for Classifications, Visualizations and Analysis."
   ]
  },
  {
   "cell_type": "markdown",
   "metadata": {},
   "source": [
    "## Knowing the Dataset"
   ]
  },
  {
   "cell_type": "markdown",
   "metadata": {},
   "source": [
    "- This is an exploration of this Kaggle dataset: https://www.kaggle.com/loveall/cervical-cancer-risk-classification. \n",
    "- The actual dataset is obtained from: https://archive.ics.uci.edu/ml/datasets/Cervical+cancer+%28Risk+Factors%29"
   ]
  },
  {
   "cell_type": "markdown",
   "metadata": {},
   "source": [
    "## What is Cervical Cancer?\n",
    "\n",
    "- Cervical cancer is a malignant\ttumour starting in the cells of a woman’s cervix, and possibly spreading or metastasizing to other parts of\ther\tbody.\n",
    "\n",
    "- About 11,000 new cases of invasive cervical cancer are diagnosed each year in the U.S.\n",
    "\n",
    "- Although the\tnumber of cases of cervical cancer have\tbeen declining in recent years due to more advanced screening and early detection with the Pap test, 300,000 women worldwide die each year due to cervical cancer.\n",
    "\n",
    "- In the United States, cervical cancer mortality rates plunged by 74% from 1955 - 1992 thanks to increased screening and early detection with the Pap test. \n",
    "\n",
    "The present project focuses on predicting whether a woman will result in having a biopsy (as she may be having cervical cancer)"
   ]
  },
  {
   "cell_type": "markdown",
   "metadata": {},
   "source": [
    "## Variables Description :\n",
    "\n",
    "- AGE: Fifty percent of cervical cancer diagnoses occur in women ages 35 - 54, and about 20% occur in women over 65 years of age. The median age of diagnosis is 48 years. About 15% of women develop cervical cancer between the ages of 20 - 30. Cervical cancer is extremely rare in women younger than age 20. However, many young women become infected with multiple types of human papilloma virus, which then can increase their risk of getting cervical cancer in the future. Young women with early abnormal changes who do not have regular examinations are at high risk for localized cancer by the time they are age 40, and for invasive cancer by age 50. \n",
    "\n",
    "- SOCIOECONOMIC AND ETHNIC FACTORS: Although the rate of cervical cancer has declined among both Caucasian and African-American women over the past decades, it remains much more prevalent in African-Americans -- whose death rates are twice as high as Caucasian women. Hispanic American women have more than twice the risk of invasive cervical cancer as Caucasian women, also due to a lower rate of screening. These differences, however, are almost certainly due to social and economic differences. Numerous studies report that high poverty levels are linked with low screening rates. In addition, lack of health insurance, limited transportation, and language difficulties hinder a poor woman’s access to screening services. \n",
    "\n",
    "- HIGH SEXUAL ACTIVITY: Human papilloma virus (HPV) is the main risk factor for cervical cancer. In adults, the most important risk factor for HPV is sexual activity with an infected person. Women most at risk for cervical cancer are those with a history of multiple sexual partners, sexual intercourse at age 17 years or younger, or both. A woman who has never been sexually active has a very low risk for developing cervical cancer. Sexual activity with multiple partners increases the likelihood of many other sexually transmitted infections (chlamydia, gonorrhea, syphilis).Studies have found an association between chlamydia and cervical cancer risk, including the possibility that chlamydia may prolong HPV infection. \n",
    "\n",
    "- FAMILY HISTORY: Women have a higher risk of cervical cancer if they have a first-degree relative (mother, sister) who has had cervical cancer. \n",
    "\n",
    "- USE OF ORAL CONTRACEPTIVES: Studies have reported a strong association between cervical cancer and long-term use of oral contraception (OC). Women who take birth control pills for more than 5 - 10 years appear to have a much higher risk HPV infection (up to four times higher) than those who do not use OCs. (Women taking OCs for fewer than 5 years do not have a significantly higher risk.) The reasons for this risk from OC use are not entirely clear. Women who use OCs may be less likely to use a diaphragm, condoms, or other methods that offer some protection against sexual transmitted diseases, including HPV. Some research also suggests that the hormones in OCs might help the virus enter the genetic material of cervical cells. \n",
    "\n",
    "- HAVING MANY CHILDREN: Studies indicate that having many children increases the risk for developing cervical cancer, particularly in women infected with HPV. \n",
    "\n",
    "- SMOKING: Smoking is associated with a higher risk for precancerous changes (dysplasia) in the cervix and for progression to invasive cervical cancer, especially for women infected with HPV. \n",
    "\n",
    "- IMMUNOSUPPRESSION: Women with weak immune systems, (such as those with HIV / AIDS), are more susceptible to acquiring HPV. Immunocompromised patients are also at higher risk for having cervical precancer develop rapidly into invasive cancer. \n",
    "\n",
    "- DIETHYLSTILBESTROL (DES): From 1938 - 1971, diethylstilbestrol (DES), an estrogen-related drug, was widely prescribed to pregnant women to help prevent miscarriages. The daughters of these women face a higher risk for cervical cancer. DES is no longer prsecribed.\n",
    "\n",
    "### STD Variables:\n",
    "\n",
    "* Vulvo-perineal condylomatosis : \n",
    "  Condylomatosis is a disease of sexual transmission. Vulvo-perineal condylomatosis is the same which affect in the vulvar-perineal region in female.\n",
    "  \n",
    "\n",
    "* Syphilis :\n",
    "  It is a chronic bacterial disease contracted chiefly during sexual intercourse, but also by an infection during developing fetus.\n",
    "  \n",
    "\n",
    "* Pelvic inflammatory disease :\n",
    "  It is a inflammation of the female genital tract, occurs when sexually transmitted bacteria spread from your vagina to your uterus, fallopian tubes or ovaries.\n",
    "  \n",
    "\n",
    "* Genital Herpes :\n",
    "  An infection by human herpes virus that is transmitted through intimate contact with the moist mucous linings of the genitals.\n",
    "  \n",
    "\n",
    "* Molluscum contagiosum :\n",
    "  It is a chronic viral disorder of the skin characterized by groups of small, smooth, painless pinkish nodules with a central depression, that yield a milky fluid when squeezed.\n",
    "  \n",
    "\n",
    "* AIDS :\n",
    "  It is caused by Human ImmunoDificiency Virus. It is sexually transmitted disease. Advanced stage of HIV is called AIDS.\n",
    "  \n",
    "\n",
    "* HIV :\n",
    "  HIV infection, shows flu-like symptoms such as fever, sore throat and fatigue can occur. Then the disease is usually asymptomatic until it progresses to AIDS.\n",
    "  \n",
    "\n",
    "* Hepatitis B :\n",
    "  It is an infection of liver. It causes scarring of organ, liver failure, Cancer. It can be fatal if it isn't treated.\n",
    "  It is caused by hepatitis B virus. "
   ]
  },
  {
   "cell_type": "markdown",
   "metadata": {},
   "source": [
    "## 1. Identifying and correcting Data types\n",
    "## 2. Data Visualisation & Feature Selection\n",
    "## 3. Fixing Missing Values - Imputer\n",
    "## 4. Data Scaling- StandScaler / MinMaxScaler\n",
    "## 5. Modelling"
   ]
  },
  {
   "cell_type": "markdown",
   "metadata": {},
   "source": [
    "## Importing Libraries"
   ]
  },
  {
   "cell_type": "code",
   "execution_count": 1,
   "metadata": {},
   "outputs": [],
   "source": [
    "import numpy as np\n",
    "import pandas as pd\n",
    "import matplotlib.pyplot as plt\n",
    "import seaborn as sns\n",
    "sns.set_style('white')\n",
    "\n",
    "%matplotlib inline\n",
    "%load_ext autoreload\n",
    "%autoreload 2"
   ]
  },
  {
   "cell_type": "code",
   "execution_count": 2,
   "metadata": {},
   "outputs": [
    {
     "name": "stdout",
     "output_type": "stream",
     "text": [
      "(858, 36)\n"
     ]
    },
    {
     "data": {
      "text/html": [
       "<div>\n",
       "<style scoped>\n",
       "    .dataframe tbody tr th:only-of-type {\n",
       "        vertical-align: middle;\n",
       "    }\n",
       "\n",
       "    .dataframe tbody tr th {\n",
       "        vertical-align: top;\n",
       "    }\n",
       "\n",
       "    .dataframe thead th {\n",
       "        text-align: right;\n",
       "    }\n",
       "</style>\n",
       "<table border=\"1\" class=\"dataframe\">\n",
       "  <thead>\n",
       "    <tr style=\"text-align: right;\">\n",
       "      <th></th>\n",
       "      <th>Age</th>\n",
       "      <th>Number of sexual partners</th>\n",
       "      <th>First sexual intercourse</th>\n",
       "      <th>Num of pregnancies</th>\n",
       "      <th>Smokes</th>\n",
       "      <th>Smokes (years)</th>\n",
       "      <th>Smokes (packs/year)</th>\n",
       "      <th>Hormonal Contraceptives</th>\n",
       "      <th>Hormonal Contraceptives (years)</th>\n",
       "      <th>IUD</th>\n",
       "      <th>...</th>\n",
       "      <th>STDs: Time since first diagnosis</th>\n",
       "      <th>STDs: Time since last diagnosis</th>\n",
       "      <th>Dx:Cancer</th>\n",
       "      <th>Dx:CIN</th>\n",
       "      <th>Dx:HPV</th>\n",
       "      <th>Dx</th>\n",
       "      <th>Hinselmann</th>\n",
       "      <th>Schiller</th>\n",
       "      <th>Citology</th>\n",
       "      <th>Biopsy</th>\n",
       "    </tr>\n",
       "  </thead>\n",
       "  <tbody>\n",
       "    <tr>\n",
       "      <th>0</th>\n",
       "      <td>18</td>\n",
       "      <td>4.0</td>\n",
       "      <td>15.0</td>\n",
       "      <td>1.0</td>\n",
       "      <td>0.0</td>\n",
       "      <td>0.0</td>\n",
       "      <td>0.0</td>\n",
       "      <td>0.0</td>\n",
       "      <td>0.0</td>\n",
       "      <td>0.0</td>\n",
       "      <td>...</td>\n",
       "      <td>?</td>\n",
       "      <td>?</td>\n",
       "      <td>0</td>\n",
       "      <td>0</td>\n",
       "      <td>0</td>\n",
       "      <td>0</td>\n",
       "      <td>0</td>\n",
       "      <td>0</td>\n",
       "      <td>0</td>\n",
       "      <td>0</td>\n",
       "    </tr>\n",
       "    <tr>\n",
       "      <th>1</th>\n",
       "      <td>15</td>\n",
       "      <td>1.0</td>\n",
       "      <td>14.0</td>\n",
       "      <td>1.0</td>\n",
       "      <td>0.0</td>\n",
       "      <td>0.0</td>\n",
       "      <td>0.0</td>\n",
       "      <td>0.0</td>\n",
       "      <td>0.0</td>\n",
       "      <td>0.0</td>\n",
       "      <td>...</td>\n",
       "      <td>?</td>\n",
       "      <td>?</td>\n",
       "      <td>0</td>\n",
       "      <td>0</td>\n",
       "      <td>0</td>\n",
       "      <td>0</td>\n",
       "      <td>0</td>\n",
       "      <td>0</td>\n",
       "      <td>0</td>\n",
       "      <td>0</td>\n",
       "    </tr>\n",
       "    <tr>\n",
       "      <th>2</th>\n",
       "      <td>34</td>\n",
       "      <td>1.0</td>\n",
       "      <td>?</td>\n",
       "      <td>1.0</td>\n",
       "      <td>0.0</td>\n",
       "      <td>0.0</td>\n",
       "      <td>0.0</td>\n",
       "      <td>0.0</td>\n",
       "      <td>0.0</td>\n",
       "      <td>0.0</td>\n",
       "      <td>...</td>\n",
       "      <td>?</td>\n",
       "      <td>?</td>\n",
       "      <td>0</td>\n",
       "      <td>0</td>\n",
       "      <td>0</td>\n",
       "      <td>0</td>\n",
       "      <td>0</td>\n",
       "      <td>0</td>\n",
       "      <td>0</td>\n",
       "      <td>0</td>\n",
       "    </tr>\n",
       "    <tr>\n",
       "      <th>3</th>\n",
       "      <td>52</td>\n",
       "      <td>5.0</td>\n",
       "      <td>16.0</td>\n",
       "      <td>4.0</td>\n",
       "      <td>1.0</td>\n",
       "      <td>37.0</td>\n",
       "      <td>37.0</td>\n",
       "      <td>1.0</td>\n",
       "      <td>3.0</td>\n",
       "      <td>0.0</td>\n",
       "      <td>...</td>\n",
       "      <td>?</td>\n",
       "      <td>?</td>\n",
       "      <td>1</td>\n",
       "      <td>0</td>\n",
       "      <td>1</td>\n",
       "      <td>0</td>\n",
       "      <td>0</td>\n",
       "      <td>0</td>\n",
       "      <td>0</td>\n",
       "      <td>0</td>\n",
       "    </tr>\n",
       "    <tr>\n",
       "      <th>4</th>\n",
       "      <td>46</td>\n",
       "      <td>3.0</td>\n",
       "      <td>21.0</td>\n",
       "      <td>4.0</td>\n",
       "      <td>0.0</td>\n",
       "      <td>0.0</td>\n",
       "      <td>0.0</td>\n",
       "      <td>1.0</td>\n",
       "      <td>15.0</td>\n",
       "      <td>0.0</td>\n",
       "      <td>...</td>\n",
       "      <td>?</td>\n",
       "      <td>?</td>\n",
       "      <td>0</td>\n",
       "      <td>0</td>\n",
       "      <td>0</td>\n",
       "      <td>0</td>\n",
       "      <td>0</td>\n",
       "      <td>0</td>\n",
       "      <td>0</td>\n",
       "      <td>0</td>\n",
       "    </tr>\n",
       "  </tbody>\n",
       "</table>\n",
       "<p>5 rows × 36 columns</p>\n",
       "</div>"
      ],
      "text/plain": [
       "   Age Number of sexual partners First sexual intercourse Num of pregnancies  \\\n",
       "0   18                       4.0                     15.0                1.0   \n",
       "1   15                       1.0                     14.0                1.0   \n",
       "2   34                       1.0                        ?                1.0   \n",
       "3   52                       5.0                     16.0                4.0   \n",
       "4   46                       3.0                     21.0                4.0   \n",
       "\n",
       "  Smokes Smokes (years) Smokes (packs/year) Hormonal Contraceptives  \\\n",
       "0    0.0            0.0                 0.0                     0.0   \n",
       "1    0.0            0.0                 0.0                     0.0   \n",
       "2    0.0            0.0                 0.0                     0.0   \n",
       "3    1.0           37.0                37.0                     1.0   \n",
       "4    0.0            0.0                 0.0                     1.0   \n",
       "\n",
       "  Hormonal Contraceptives (years)  IUD  ... STDs: Time since first diagnosis  \\\n",
       "0                             0.0  0.0  ...                                ?   \n",
       "1                             0.0  0.0  ...                                ?   \n",
       "2                             0.0  0.0  ...                                ?   \n",
       "3                             3.0  0.0  ...                                ?   \n",
       "4                            15.0  0.0  ...                                ?   \n",
       "\n",
       "  STDs: Time since last diagnosis Dx:Cancer Dx:CIN Dx:HPV Dx Hinselmann  \\\n",
       "0                               ?         0      0      0  0          0   \n",
       "1                               ?         0      0      0  0          0   \n",
       "2                               ?         0      0      0  0          0   \n",
       "3                               ?         1      0      1  0          0   \n",
       "4                               ?         0      0      0  0          0   \n",
       "\n",
       "  Schiller Citology Biopsy  \n",
       "0        0        0      0  \n",
       "1        0        0      0  \n",
       "2        0        0      0  \n",
       "3        0        0      0  \n",
       "4        0        0      0  \n",
       "\n",
       "[5 rows x 36 columns]"
      ]
     },
     "execution_count": 2,
     "metadata": {},
     "output_type": "execute_result"
    }
   ],
   "source": [
    "data = pd.read_csv(\"data/kag_risk_factors_cervical_cancer.csv\")\n",
    "print(data.shape)\n",
    "data.head()"
   ]
  },
  {
   "cell_type": "code",
   "execution_count": 3,
   "metadata": {},
   "outputs": [
    {
     "name": "stdout",
     "output_type": "stream",
     "text": [
      "0    803\n",
      "1     55\n",
      "Name: Biopsy, dtype: int64\n",
      "0    823\n",
      "1     35\n",
      "Name: Hinselmann, dtype: int64\n",
      "0    784\n",
      "1     74\n",
      "Name: Schiller, dtype: int64\n",
      "0    814\n",
      "1     44\n",
      "Name: Citology, dtype: int64\n"
     ]
    }
   ],
   "source": [
    "print(data['Biopsy'].value_counts())\n",
    "print(data['Hinselmann'].value_counts())\n",
    "print(data['Schiller'].value_counts())\n",
    "print(data['Citology'].value_counts())"
   ]
  },
  {
   "cell_type": "markdown",
   "metadata": {},
   "source": [
    "## Data types"
   ]
  },
  {
   "cell_type": "code",
   "execution_count": 4,
   "metadata": {},
   "outputs": [
    {
     "data": {
      "text/plain": [
       "Age                                    int64\n",
       "Number of sexual partners             object\n",
       "First sexual intercourse              object\n",
       "Num of pregnancies                    object\n",
       "Smokes                                object\n",
       "Smokes (years)                        object\n",
       "Smokes (packs/year)                   object\n",
       "Hormonal Contraceptives               object\n",
       "Hormonal Contraceptives (years)       object\n",
       "IUD                                   object\n",
       "IUD (years)                           object\n",
       "STDs                                  object\n",
       "STDs (number)                         object\n",
       "STDs:condylomatosis                   object\n",
       "STDs:cervical condylomatosis          object\n",
       "STDs:vaginal condylomatosis           object\n",
       "STDs:vulvo-perineal condylomatosis    object\n",
       "STDs:syphilis                         object\n",
       "STDs:pelvic inflammatory disease      object\n",
       "STDs:genital herpes                   object\n",
       "STDs:molluscum contagiosum            object\n",
       "STDs:AIDS                             object\n",
       "STDs:HIV                              object\n",
       "STDs:Hepatitis B                      object\n",
       "STDs:HPV                              object\n",
       "STDs: Number of diagnosis              int64\n",
       "STDs: Time since first diagnosis      object\n",
       "STDs: Time since last diagnosis       object\n",
       "Dx:Cancer                              int64\n",
       "Dx:CIN                                 int64\n",
       "Dx:HPV                                 int64\n",
       "Dx                                     int64\n",
       "Hinselmann                             int64\n",
       "Schiller                               int64\n",
       "Citology                               int64\n",
       "Biopsy                                 int64\n",
       "dtype: object"
      ]
     },
     "execution_count": 4,
     "metadata": {},
     "output_type": "execute_result"
    }
   ],
   "source": [
    "data.dtypes"
   ]
  },
  {
   "cell_type": "code",
   "execution_count": 5,
   "metadata": {},
   "outputs": [
    {
     "data": {
      "text/plain": [
       "Index(['Age', 'Number of sexual partners', 'First sexual intercourse',\n",
       "       'Num of pregnancies', 'Smokes', 'Smokes (years)', 'Smokes (packs/year)',\n",
       "       'Hormonal Contraceptives', 'Hormonal Contraceptives (years)', 'IUD',\n",
       "       'IUD (years)', 'STDs', 'STDs (number)', 'STDs:condylomatosis',\n",
       "       'STDs:cervical condylomatosis', 'STDs:vaginal condylomatosis',\n",
       "       'STDs:vulvo-perineal condylomatosis', 'STDs:syphilis',\n",
       "       'STDs:pelvic inflammatory disease', 'STDs:genital herpes',\n",
       "       'STDs:molluscum contagiosum', 'STDs:AIDS', 'STDs:HIV',\n",
       "       'STDs:Hepatitis B', 'STDs:HPV', 'STDs: Number of diagnosis',\n",
       "       'STDs: Time since first diagnosis', 'STDs: Time since last diagnosis',\n",
       "       'Dx:Cancer', 'Dx:CIN', 'Dx:HPV', 'Dx', 'Hinselmann', 'Schiller',\n",
       "       'Citology', 'Biopsy'],\n",
       "      dtype='object')"
      ]
     },
     "execution_count": 5,
     "metadata": {},
     "output_type": "execute_result"
    }
   ],
   "source": [
    "data.columns"
   ]
  },
  {
   "cell_type": "code",
   "execution_count": 6,
   "metadata": {},
   "outputs": [],
   "source": [
    "numerical = ['Age', \n",
    "             'Number of sexual partners', \n",
    "             'First sexual intercourse',\n",
    "                'Num of pregnancies', \n",
    "                'Smokes (years)',\n",
    "                'Smokes (packs/year)',\n",
    "                'Hormonal Contraceptives (years)',\n",
    "                'IUD (years)',\n",
    "                'STDs (number)',\n",
    "                'STDs: Number of diagnosis',\n",
    "            'STDs: Time since first diagnosis', \n",
    "             'STDs: Time since last diagnosis']\n",
    "\n",
    "categorical = ['STDs',\n",
    "               'Smokes',\n",
    "               'Hormonal Contraceptives',\n",
    "               'IUD',\n",
    "               'Dx',\n",
    "                  'STDs:condylomatosis',\n",
    "                  'STDs:cervical condylomatosis',\n",
    "                  'STDs:vaginal condylomatosis',\n",
    "                  'STDs:vulvo-perineal condylomatosis', \n",
    "                  'STDs:syphilis',\n",
    "                  'STDs:pelvic inflammatory disease', \n",
    "                  'STDs:genital herpes',\n",
    "                  'STDs:molluscum contagiosum', \n",
    "                  'STDs:AIDS', \n",
    "                  'STDs:HIV',\n",
    "                  'STDs:Hepatitis B', \n",
    "                  'STDs:HPV', \n",
    "                  'Dx:Cancer', \n",
    "                  'Dx:CIN', \n",
    "                  'Dx:HPV']\n",
    "\n",
    "target = ['Hinselmann', 'Schiller','Citology', 'Biopsy']"
   ]
  },
  {
   "cell_type": "code",
   "execution_count": 7,
   "metadata": {},
   "outputs": [],
   "source": [
    "# just to check the 3 lists were created properly\n",
    "assert len(numerical) + len(categorical) + len(target) == 36"
   ]
  },
  {
   "cell_type": "code",
   "execution_count": 8,
   "metadata": {},
   "outputs": [],
   "source": [
    "for col in numerical:\n",
    "    data[col]=pd.to_numeric(data[col],errors='coerce') "
   ]
  },
  {
   "cell_type": "code",
   "execution_count": 9,
   "metadata": {},
   "outputs": [],
   "source": [
    "for col in categorical:\n",
    "    data[col]=pd.to_numeric(data[col],errors='coerce') "
   ]
  },
  {
   "cell_type": "code",
   "execution_count": 10,
   "metadata": {},
   "outputs": [
    {
     "data": {
      "text/plain": [
       "Age                                     int64\n",
       "Number of sexual partners             float64\n",
       "First sexual intercourse              float64\n",
       "Num of pregnancies                    float64\n",
       "Smokes                                float64\n",
       "Smokes (years)                        float64\n",
       "Smokes (packs/year)                   float64\n",
       "Hormonal Contraceptives               float64\n",
       "Hormonal Contraceptives (years)       float64\n",
       "IUD                                   float64\n",
       "IUD (years)                           float64\n",
       "STDs                                  float64\n",
       "STDs (number)                         float64\n",
       "STDs:condylomatosis                   float64\n",
       "STDs:cervical condylomatosis          float64\n",
       "STDs:vaginal condylomatosis           float64\n",
       "STDs:vulvo-perineal condylomatosis    float64\n",
       "STDs:syphilis                         float64\n",
       "STDs:pelvic inflammatory disease      float64\n",
       "STDs:genital herpes                   float64\n",
       "STDs:molluscum contagiosum            float64\n",
       "STDs:AIDS                             float64\n",
       "STDs:HIV                              float64\n",
       "STDs:Hepatitis B                      float64\n",
       "STDs:HPV                              float64\n",
       "STDs: Number of diagnosis               int64\n",
       "STDs: Time since first diagnosis      float64\n",
       "STDs: Time since last diagnosis       float64\n",
       "Dx:Cancer                               int64\n",
       "Dx:CIN                                  int64\n",
       "Dx:HPV                                  int64\n",
       "Dx                                      int64\n",
       "Hinselmann                              int64\n",
       "Schiller                                int64\n",
       "Citology                                int64\n",
       "Biopsy                                  int64\n",
       "dtype: object"
      ]
     },
     "execution_count": 10,
     "metadata": {},
     "output_type": "execute_result"
    }
   ],
   "source": [
    "data.dtypes"
   ]
  },
  {
   "cell_type": "code",
   "execution_count": 11,
   "metadata": {},
   "outputs": [
    {
     "data": {
      "text/html": [
       "<div>\n",
       "<style scoped>\n",
       "    .dataframe tbody tr th:only-of-type {\n",
       "        vertical-align: middle;\n",
       "    }\n",
       "\n",
       "    .dataframe tbody tr th {\n",
       "        vertical-align: top;\n",
       "    }\n",
       "\n",
       "    .dataframe thead th {\n",
       "        text-align: right;\n",
       "    }\n",
       "</style>\n",
       "<table border=\"1\" class=\"dataframe\">\n",
       "  <thead>\n",
       "    <tr style=\"text-align: right;\">\n",
       "      <th></th>\n",
       "      <th>Age</th>\n",
       "      <th>Number of sexual partners</th>\n",
       "      <th>First sexual intercourse</th>\n",
       "      <th>Num of pregnancies</th>\n",
       "      <th>Smokes</th>\n",
       "      <th>Smokes (years)</th>\n",
       "      <th>Smokes (packs/year)</th>\n",
       "      <th>Hormonal Contraceptives</th>\n",
       "      <th>Hormonal Contraceptives (years)</th>\n",
       "      <th>IUD</th>\n",
       "      <th>...</th>\n",
       "      <th>STDs: Time since first diagnosis</th>\n",
       "      <th>STDs: Time since last diagnosis</th>\n",
       "      <th>Dx:Cancer</th>\n",
       "      <th>Dx:CIN</th>\n",
       "      <th>Dx:HPV</th>\n",
       "      <th>Dx</th>\n",
       "      <th>Hinselmann</th>\n",
       "      <th>Schiller</th>\n",
       "      <th>Citology</th>\n",
       "      <th>Biopsy</th>\n",
       "    </tr>\n",
       "  </thead>\n",
       "  <tbody>\n",
       "    <tr>\n",
       "      <th>0</th>\n",
       "      <td>18</td>\n",
       "      <td>4.0</td>\n",
       "      <td>15.0</td>\n",
       "      <td>1.0</td>\n",
       "      <td>0.0</td>\n",
       "      <td>0.0</td>\n",
       "      <td>0.0</td>\n",
       "      <td>0.0</td>\n",
       "      <td>0.0</td>\n",
       "      <td>0.0</td>\n",
       "      <td>...</td>\n",
       "      <td>NaN</td>\n",
       "      <td>NaN</td>\n",
       "      <td>0</td>\n",
       "      <td>0</td>\n",
       "      <td>0</td>\n",
       "      <td>0</td>\n",
       "      <td>0</td>\n",
       "      <td>0</td>\n",
       "      <td>0</td>\n",
       "      <td>0</td>\n",
       "    </tr>\n",
       "    <tr>\n",
       "      <th>1</th>\n",
       "      <td>15</td>\n",
       "      <td>1.0</td>\n",
       "      <td>14.0</td>\n",
       "      <td>1.0</td>\n",
       "      <td>0.0</td>\n",
       "      <td>0.0</td>\n",
       "      <td>0.0</td>\n",
       "      <td>0.0</td>\n",
       "      <td>0.0</td>\n",
       "      <td>0.0</td>\n",
       "      <td>...</td>\n",
       "      <td>NaN</td>\n",
       "      <td>NaN</td>\n",
       "      <td>0</td>\n",
       "      <td>0</td>\n",
       "      <td>0</td>\n",
       "      <td>0</td>\n",
       "      <td>0</td>\n",
       "      <td>0</td>\n",
       "      <td>0</td>\n",
       "      <td>0</td>\n",
       "    </tr>\n",
       "    <tr>\n",
       "      <th>2</th>\n",
       "      <td>34</td>\n",
       "      <td>1.0</td>\n",
       "      <td>NaN</td>\n",
       "      <td>1.0</td>\n",
       "      <td>0.0</td>\n",
       "      <td>0.0</td>\n",
       "      <td>0.0</td>\n",
       "      <td>0.0</td>\n",
       "      <td>0.0</td>\n",
       "      <td>0.0</td>\n",
       "      <td>...</td>\n",
       "      <td>NaN</td>\n",
       "      <td>NaN</td>\n",
       "      <td>0</td>\n",
       "      <td>0</td>\n",
       "      <td>0</td>\n",
       "      <td>0</td>\n",
       "      <td>0</td>\n",
       "      <td>0</td>\n",
       "      <td>0</td>\n",
       "      <td>0</td>\n",
       "    </tr>\n",
       "    <tr>\n",
       "      <th>3</th>\n",
       "      <td>52</td>\n",
       "      <td>5.0</td>\n",
       "      <td>16.0</td>\n",
       "      <td>4.0</td>\n",
       "      <td>1.0</td>\n",
       "      <td>37.0</td>\n",
       "      <td>37.0</td>\n",
       "      <td>1.0</td>\n",
       "      <td>3.0</td>\n",
       "      <td>0.0</td>\n",
       "      <td>...</td>\n",
       "      <td>NaN</td>\n",
       "      <td>NaN</td>\n",
       "      <td>1</td>\n",
       "      <td>0</td>\n",
       "      <td>1</td>\n",
       "      <td>0</td>\n",
       "      <td>0</td>\n",
       "      <td>0</td>\n",
       "      <td>0</td>\n",
       "      <td>0</td>\n",
       "    </tr>\n",
       "    <tr>\n",
       "      <th>4</th>\n",
       "      <td>46</td>\n",
       "      <td>3.0</td>\n",
       "      <td>21.0</td>\n",
       "      <td>4.0</td>\n",
       "      <td>0.0</td>\n",
       "      <td>0.0</td>\n",
       "      <td>0.0</td>\n",
       "      <td>1.0</td>\n",
       "      <td>15.0</td>\n",
       "      <td>0.0</td>\n",
       "      <td>...</td>\n",
       "      <td>NaN</td>\n",
       "      <td>NaN</td>\n",
       "      <td>0</td>\n",
       "      <td>0</td>\n",
       "      <td>0</td>\n",
       "      <td>0</td>\n",
       "      <td>0</td>\n",
       "      <td>0</td>\n",
       "      <td>0</td>\n",
       "      <td>0</td>\n",
       "    </tr>\n",
       "  </tbody>\n",
       "</table>\n",
       "<p>5 rows × 36 columns</p>\n",
       "</div>"
      ],
      "text/plain": [
       "   Age  Number of sexual partners  First sexual intercourse  \\\n",
       "0   18                        4.0                      15.0   \n",
       "1   15                        1.0                      14.0   \n",
       "2   34                        1.0                       NaN   \n",
       "3   52                        5.0                      16.0   \n",
       "4   46                        3.0                      21.0   \n",
       "\n",
       "   Num of pregnancies  Smokes  Smokes (years)  Smokes (packs/year)  \\\n",
       "0                 1.0     0.0             0.0                  0.0   \n",
       "1                 1.0     0.0             0.0                  0.0   \n",
       "2                 1.0     0.0             0.0                  0.0   \n",
       "3                 4.0     1.0            37.0                 37.0   \n",
       "4                 4.0     0.0             0.0                  0.0   \n",
       "\n",
       "   Hormonal Contraceptives  Hormonal Contraceptives (years)  IUD  ...  \\\n",
       "0                      0.0                              0.0  0.0  ...   \n",
       "1                      0.0                              0.0  0.0  ...   \n",
       "2                      0.0                              0.0  0.0  ...   \n",
       "3                      1.0                              3.0  0.0  ...   \n",
       "4                      1.0                             15.0  0.0  ...   \n",
       "\n",
       "   STDs: Time since first diagnosis  STDs: Time since last diagnosis  \\\n",
       "0                               NaN                              NaN   \n",
       "1                               NaN                              NaN   \n",
       "2                               NaN                              NaN   \n",
       "3                               NaN                              NaN   \n",
       "4                               NaN                              NaN   \n",
       "\n",
       "   Dx:Cancer  Dx:CIN  Dx:HPV  Dx  Hinselmann  Schiller  Citology  Biopsy  \n",
       "0          0       0       0   0           0         0         0       0  \n",
       "1          0       0       0   0           0         0         0       0  \n",
       "2          0       0       0   0           0         0         0       0  \n",
       "3          1       0       1   0           0         0         0       0  \n",
       "4          0       0       0   0           0         0         0       0  \n",
       "\n",
       "[5 rows x 36 columns]"
      ]
     },
     "execution_count": 11,
     "metadata": {},
     "output_type": "execute_result"
    }
   ],
   "source": [
    "data.head()"
   ]
  },
  {
   "cell_type": "markdown",
   "metadata": {},
   "source": [
    "# Visualisations"
   ]
  },
  {
   "cell_type": "code",
   "execution_count": 12,
   "metadata": {},
   "outputs": [
    {
     "name": "stderr",
     "output_type": "stream",
     "text": [
      "/anaconda3/envs/tutor/lib/python3.6/site-packages/seaborn/categorical.py:3666: UserWarning: The `factorplot` function has been renamed to `catplot`. The original name will be removed in a future release. Please update your code. Note that the default `kind` in `factorplot` (`'point'`) has changed `'strip'` in `catplot`.\n",
      "  warnings.warn(msg)\n"
     ]
    },
    {
     "data": {
      "image/png": "[encoded data removed]",
      "text/plain": [
       "<Figure size 360x360 with 1 Axes>"
      ]
     },
     "metadata": {
      "needs_background": "light"
     },
     "output_type": "display_data"
    },
    {
     "data": {
      "image/png": "[encoded data removed]",
      "text/plain": [
       "<Figure size 360x360 with 1 Axes>"
      ]
     },
     "metadata": {
      "needs_background": "light"
     },
     "output_type": "display_data"
    },
    {
     "data": {
      "image/png": "[encoded data removed]",
      "text/plain": [
       "<Figure size 360x360 with 1 Axes>"
      ]
     },
     "metadata": {
      "needs_background": "light"
     },
     "output_type": "display_data"
    },
    {
     "data": {
      "image/png": "[encoded data removed]",
      "text/plain": [
       "<Figure size 360x360 with 1 Axes>"
      ]
     },
     "metadata": {
      "needs_background": "light"
     },
     "output_type": "display_data"
    },
    {
     "data": {
      "image/png": "[encoded data removed]",
      "text/plain": [
       "<Figure size 360x360 with 1 Axes>"
      ]
     },
     "metadata": {
      "needs_background": "light"
     },
     "output_type": "display_data"
    },
    {
     "data": {
      "image/png": "[encoded data removed]",
      "text/plain": [
       "<Figure size 360x360 with 1 Axes>"
      ]
     },
     "metadata": {
      "needs_background": "light"
     },
     "output_type": "display_data"
    },
    {
     "data": {
      "image/png": "[encoded data removed]",
      "text/plain": [
       "<Figure size 360x360 with 1 Axes>"
      ]
     },
     "metadata": {
      "needs_background": "light"
     },
     "output_type": "display_data"
    },
    {
     "data": {
      "image/png": "[encoded data removed]",
      "text/plain": [
       "<Figure size 360x360 with 1 Axes>"
      ]
     },
     "metadata": {
      "needs_background": "light"
     },
     "output_type": "display_data"
    },
    {
     "data": {
      "image/png": "[encoded data removed]",
      "text/plain": [
       "<Figure size 360x360 with 1 Axes>"
      ]
     },
     "metadata": {
      "needs_background": "light"
     },
     "output_type": "display_data"
    },
    {
     "data": {
      "image/png": "[encoded data removed]",
      "text/plain": [
       "<Figure size 360x360 with 1 Axes>"
      ]
     },
     "metadata": {
      "needs_background": "light"
     },
     "output_type": "display_data"
    },
    {
     "data": {
      "image/png": "[encoded data removed]",
      "text/plain": [
       "<Figure size 360x360 with 1 Axes>"
      ]
     },
     "metadata": {
      "needs_background": "light"
     },
     "output_type": "display_data"
    },
    {
     "data": {
      "image/png": "[encoded data removed]",
      "text/plain": [
       "<Figure size 360x360 with 1 Axes>"
      ]
     },
     "metadata": {
      "needs_background": "light"
     },
     "output_type": "display_data"
    },
    {
     "data": {
      "image/png": "[encoded data removed]",
      "text/plain": [
       "<Figure size 360x360 with 1 Axes>"
      ]
     },
     "metadata": {
      "needs_background": "light"
     },
     "output_type": "display_data"
    },
    {
     "data": {
      "image/png": "[encoded data removed]",
      "text/plain": [
       "<Figure size 360x360 with 1 Axes>"
      ]
     },
     "metadata": {
      "needs_background": "light"
     },
     "output_type": "display_data"
    },
    {
     "data": {
      "image/png": "[encoded data removed]",
      "text/plain": [
       "<Figure size 360x360 with 1 Axes>"
      ]
     },
     "metadata": {
      "needs_background": "light"
     },
     "output_type": "display_data"
    },
    {
     "data": {
      "image/png": "[encoded data removed]",
      "text/plain": [
       "<Figure size 360x360 with 1 Axes>"
      ]
     },
     "metadata": {
      "needs_background": "light"
     },
     "output_type": "display_data"
    },
    {
     "data": {
      "image/png": "[encoded data removed]",
      "text/plain": [
       "<Figure size 360x360 with 1 Axes>"
      ]
     },
     "metadata": {
      "needs_background": "light"
     },
     "output_type": "display_data"
    },
    {
     "data": {
      "image/png": "[encoded data removed]",
      "text/plain": [
       "<Figure size 360x360 with 1 Axes>"
      ]
     },
     "metadata": {
      "needs_background": "light"
     },
     "output_type": "display_data"
    },
    {
     "data": {
      "image/png": "[encoded data removed]",
      "text/plain": [
       "<Figure size 360x360 with 1 Axes>"
      ]
     },
     "metadata": {
      "needs_background": "light"
     },
     "output_type": "display_data"
    },
    {
     "data": {
      "image/png": "[encoded data removed]",
      "text/plain": [
       "<Figure size 360x360 with 1 Axes>"
      ]
     },
     "metadata": {
      "needs_background": "light"
     },
     "output_type": "display_data"
    }
   ],
   "source": [
    "for feature in categorical:\n",
    "    sns.factorplot(feature,data=data,kind='count')"
   ]
  },
  {
   "cell_type": "markdown",
   "metadata": {},
   "source": [
    "Observations:\n",
    "- STDs:AIDS has only 0 values. We can possibly drop this column\n",
    "- Harmonal Contraceptive column has the highest number of one's which indicate that this might be the important key feature in detecting the cervical cancer. So let us concentrate on this feature more in future analysis."
   ]
  },
  {
   "cell_type": "code",
   "execution_count": 13,
   "metadata": {},
   "outputs": [
    {
     "data": {
      "text/plain": [
       "(20, None, 19)"
      ]
     },
     "execution_count": 13,
     "metadata": {},
     "output_type": "execute_result"
    }
   ],
   "source": [
    "len(categorical), categorical.remove(\"STDs:AIDS\"), len(categorical)"
   ]
  },
  {
   "cell_type": "code",
   "execution_count": 14,
   "metadata": {},
   "outputs": [
    {
     "data": {
      "image/png": "[encoded data removed]",
      "text/plain": [
       "<Figure size 756x252 with 4 Axes>"
      ]
     },
     "metadata": {
      "needs_background": "light"
     },
     "output_type": "display_data"
    }
   ],
   "source": [
    "g = sns.PairGrid(data,\n",
    "                 y_vars=['Hormonal Contraceptives'],\n",
    "                 x_vars= target,\n",
    "                 aspect=.75, height=3.5)\n",
    "g.map(sns.barplot, palette=\"pastel\");"
   ]
  },
  {
   "cell_type": "code",
   "execution_count": 15,
   "metadata": {},
   "outputs": [
    {
     "name": "stdout",
     "output_type": "stream",
     "text": [
      "Mean age of the Women facing the risk of Cervical cancer 26.82051282051282\n"
     ]
    },
    {
     "data": {
      "image/png": "[encoded data removed]",
      "text/plain": [
       "<Figure size 432x288 with 1 Axes>"
      ]
     },
     "metadata": {
      "needs_background": "light"
     },
     "output_type": "display_data"
    }
   ],
   "source": [
    "data['Age'].hist(bins=70)\n",
    "plt.xlabel('Age')\n",
    "plt.ylabel('Count')\n",
    "print('Mean age of the Women facing the risk of Cervical cancer',data['Age'].mean())"
   ]
  },
  {
   "cell_type": "code",
   "execution_count": 16,
   "metadata": {},
   "outputs": [
    {
     "data": {
      "image/png": "[encoded data removed]",
      "text/plain": [
       "<Figure size 1141.12x216 with 1 Axes>"
      ]
     },
     "metadata": {
      "needs_background": "light"
     },
     "output_type": "display_data"
    },
    {
     "data": {
      "image/png": "[encoded data removed]",
      "text/plain": [
       "<Figure size 1121.62x216 with 1 Axes>"
      ]
     },
     "metadata": {
      "needs_background": "light"
     },
     "output_type": "display_data"
    },
    {
     "data": {
      "image/png": "[encoded data removed]",
      "text/plain": [
       "<Figure size 1124.38x216 with 1 Axes>"
      ]
     },
     "metadata": {
      "needs_background": "light"
     },
     "output_type": "display_data"
    },
    {
     "data": {
      "image/png": "[encoded data removed]",
      "text/plain": [
       "<Figure size 1121.62x216 with 1 Axes>"
      ]
     },
     "metadata": {
      "needs_background": "light"
     },
     "output_type": "display_data"
    }
   ],
   "source": [
    "for feature in target:\n",
    "    as_fig = sns.FacetGrid(data,hue=feature,aspect=5)\n",
    "    as_fig.map(sns.kdeplot,'Age',shade=True)\n",
    "    oldest = data['Age'].max()\n",
    "    as_fig.set(xlim=(0,oldest))\n",
    "    as_fig.add_legend()"
   ]
  },
  {
   "cell_type": "markdown",
   "metadata": {},
   "source": [
    "From the above plots it can be seen that the mean age of the women facing the risk of cervical cancer is 26. Also the women with the age in range of 20 to 35 have the highest chances of developing the risk of cervical cancer. The peaks at age of 50 and the furthur extension of the density plot indicate that some of the women face the risk of cervical cancer even at that age."
   ]
  },
  {
   "cell_type": "code",
   "execution_count": 17,
   "metadata": {},
   "outputs": [
    {
     "data": {
      "image/png": "[encoded data removed]",
      "text/plain": [
       "<Figure size 763.125x360 with 1 Axes>"
      ]
     },
     "metadata": {
      "needs_background": "light"
     },
     "output_type": "display_data"
    },
    {
     "data": {
      "image/png": "[encoded data removed]",
      "text/plain": [
       "<Figure size 743.625x360 with 1 Axes>"
      ]
     },
     "metadata": {
      "needs_background": "light"
     },
     "output_type": "display_data"
    },
    {
     "data": {
      "image/png": "[encoded data removed]",
      "text/plain": [
       "<Figure size 746.375x360 with 1 Axes>"
      ]
     },
     "metadata": {
      "needs_background": "light"
     },
     "output_type": "display_data"
    },
    {
     "data": {
      "image/png": "[encoded data removed]",
      "text/plain": [
       "<Figure size 743.625x360 with 1 Axes>"
      ]
     },
     "metadata": {
      "needs_background": "light"
     },
     "output_type": "display_data"
    }
   ],
   "source": [
    "for feature in target:\n",
    "    sns.catplot(x='Number of sexual partners',y='Age',hue=feature,\n",
    "                   data=data,aspect=1.95,kind='bar');"
   ]
  },
  {
   "cell_type": "markdown",
   "metadata": {},
   "source": [
    "As age of women increases, the number of sexual partners increases which increases the possibility of getting tumor. So we can consider that Number of Sexual partners as a key feature in detecting the Cervical Cancer. "
   ]
  },
  {
   "cell_type": "code",
   "execution_count": 18,
   "metadata": {},
   "outputs": [
    {
     "data": {
      "text/html": [
       "<div>\n",
       "<style scoped>\n",
       "    .dataframe tbody tr th:only-of-type {\n",
       "        vertical-align: middle;\n",
       "    }\n",
       "\n",
       "    .dataframe tbody tr th {\n",
       "        vertical-align: top;\n",
       "    }\n",
       "\n",
       "    .dataframe thead th {\n",
       "        text-align: right;\n",
       "    }\n",
       "</style>\n",
       "<table border=\"1\" class=\"dataframe\">\n",
       "  <thead>\n",
       "    <tr style=\"text-align: right;\">\n",
       "      <th>STDs (number)</th>\n",
       "      <th>0.0</th>\n",
       "      <th>1.0</th>\n",
       "      <th>2.0</th>\n",
       "      <th>3.0</th>\n",
       "      <th>4.0</th>\n",
       "    </tr>\n",
       "    <tr>\n",
       "      <th>Hinselmann</th>\n",
       "      <th></th>\n",
       "      <th></th>\n",
       "      <th></th>\n",
       "      <th></th>\n",
       "      <th></th>\n",
       "    </tr>\n",
       "  </thead>\n",
       "  <tbody>\n",
       "    <tr>\n",
       "      <th>0</th>\n",
       "      <td>645</td>\n",
       "      <td>32</td>\n",
       "      <td>34</td>\n",
       "      <td>7</td>\n",
       "      <td>0</td>\n",
       "    </tr>\n",
       "    <tr>\n",
       "      <th>1</th>\n",
       "      <td>29</td>\n",
       "      <td>2</td>\n",
       "      <td>3</td>\n",
       "      <td>0</td>\n",
       "      <td>1</td>\n",
       "    </tr>\n",
       "  </tbody>\n",
       "</table>\n",
       "</div>"
      ],
      "text/plain": [
       "STDs (number)  0.0  1.0  2.0  3.0  4.0\n",
       "Hinselmann                            \n",
       "0              645   32   34    7    0\n",
       "1               29    2    3    0    1"
      ]
     },
     "execution_count": 18,
     "metadata": {},
     "output_type": "execute_result"
    }
   ],
   "source": [
    "std_table = pd.crosstab(index=data[\"Hinselmann\"], \n",
    "                        columns=data[\"STDs (number)\"])\n",
    "std_table"
   ]
  },
  {
   "cell_type": "code",
   "execution_count": 19,
   "metadata": {},
   "outputs": [
    {
     "data": {
      "text/plain": [
       "<matplotlib.axes._subplots.AxesSubplot at 0x120b106a0>"
      ]
     },
     "execution_count": 19,
     "metadata": {},
     "output_type": "execute_result"
    },
    {
     "data": {
      "image/png": "[encoded data removed]",
      "text/plain": [
       "<Figure size 432x288 with 2 Axes>"
      ]
     },
     "metadata": {
      "needs_background": "light"
     },
     "output_type": "display_data"
    }
   ],
   "source": [
    "sns.heatmap(std_table,annot=True, fmt=\"d\",cmap=\"YlGnBu\",linewidths=0.5)"
   ]
  },
  {
   "cell_type": "markdown",
   "metadata": {},
   "source": [
    "From the three columns/features (Smokes, Smokes (years), Smokes (packs/year)) we can remove the column Smokes because Smokes (years) will represent the Smokes column because Smoke (years) column has non-zero value only when Smokes column has non-zero value. Also, the predictions depends on the number of years the person is smoking rather than just whether the smokes or not."
   ]
  },
  {
   "cell_type": "code",
   "execution_count": 20,
   "metadata": {},
   "outputs": [
    {
     "data": {
      "text/plain": [
       "(19, None, 18)"
      ]
     },
     "execution_count": 20,
     "metadata": {},
     "output_type": "execute_result"
    }
   ],
   "source": [
    "#drop the smokes features\n",
    "len(categorical), categorical.remove(\"Smokes\"), len(categorical)"
   ]
  },
  {
   "cell_type": "code",
   "execution_count": 21,
   "metadata": {},
   "outputs": [
    {
     "data": {
      "text/plain": [
       "(18, None, 17)"
      ]
     },
     "execution_count": 21,
     "metadata": {},
     "output_type": "execute_result"
    }
   ],
   "source": [
    "#### Similar study as Smokes can be conducted for other features like Harmonal Contraceptives etc.\n",
    "len(categorical), categorical.remove(\"Hormonal Contraceptives\"), len(categorical)"
   ]
  },
  {
   "cell_type": "code",
   "execution_count": 22,
   "metadata": {},
   "outputs": [
    {
     "data": {
      "text/plain": [
       "(17, None, 16)"
      ]
     },
     "execution_count": 22,
     "metadata": {},
     "output_type": "execute_result"
    }
   ],
   "source": [
    "### Dropping IUD column because IUD (years) has a non-zero value only if IUD is non-zero.\n",
    "len(categorical), categorical.remove(\"IUD\"), len(categorical)"
   ]
  },
  {
   "cell_type": "code",
   "execution_count": 23,
   "metadata": {},
   "outputs": [
    {
     "data": {
      "text/plain": [
       "(16, None, 15)"
      ]
     },
     "execution_count": 23,
     "metadata": {},
     "output_type": "execute_result"
    }
   ],
   "source": [
    "## same logic for Dx\n",
    "len(categorical), categorical.remove(\"Dx\"), len(categorical)"
   ]
  },
  {
   "cell_type": "markdown",
   "metadata": {},
   "source": [
    "## Missing Values"
   ]
  },
  {
   "cell_type": "markdown",
   "metadata": {},
   "source": [
    "### Identifying missing values"
   ]
  },
  {
   "cell_type": "code",
   "execution_count": 24,
   "metadata": {},
   "outputs": [
    {
     "data": {
      "image/png": "[encoded data removed]",
      "text/plain": [
       "<Figure size 1008x432 with 1 Axes>"
      ]
     },
     "metadata": {
      "needs_background": "light"
     },
     "output_type": "display_data"
    }
   ],
   "source": [
    "# Look at missing data.\n",
    "plt.figure(figsize=(14,6))\n",
    "\n",
    "p = sns.heatmap(data.isnull(),\n",
    "                yticklabels=False,\n",
    "                cbar=False,\n",
    "                cmap='viridis')\n",
    "\n",
    "p.axes.set_title(\"Missing Values\",fontsize=20);"
   ]
  },
  {
   "cell_type": "markdown",
   "metadata": {},
   "source": [
    "### Two features contain mostly missing values, and these features will therefore be dropped."
   ]
  },
  {
   "cell_type": "code",
   "execution_count": 25,
   "metadata": {},
   "outputs": [
    {
     "data": {
      "text/plain": [
       "(12, None, 11)"
      ]
     },
     "execution_count": 25,
     "metadata": {},
     "output_type": "execute_result"
    }
   ],
   "source": [
    "len(numerical), numerical.remove(\"STDs: Time since first diagnosis\"), len(numerical)"
   ]
  },
  {
   "cell_type": "code",
   "execution_count": 26,
   "metadata": {},
   "outputs": [
    {
     "data": {
      "text/plain": [
       "(11, None, 10)"
      ]
     },
     "execution_count": 26,
     "metadata": {},
     "output_type": "execute_result"
    }
   ],
   "source": [
    "len(numerical), numerical.remove(\"STDs: Time since last diagnosis\"), len(numerical)"
   ]
  },
  {
   "cell_type": "code",
   "execution_count": 27,
   "metadata": {},
   "outputs": [
    {
     "data": {
      "text/plain": [
       "Age                                     0\n",
       "Number of sexual partners              26\n",
       "First sexual intercourse                7\n",
       "Num of pregnancies                     56\n",
       "Smokes                                 13\n",
       "Smokes (years)                         13\n",
       "Smokes (packs/year)                    13\n",
       "Hormonal Contraceptives               108\n",
       "Hormonal Contraceptives (years)       108\n",
       "IUD                                   117\n",
       "IUD (years)                           117\n",
       "STDs                                  105\n",
       "STDs (number)                         105\n",
       "STDs:condylomatosis                   105\n",
       "STDs:cervical condylomatosis          105\n",
       "STDs:vaginal condylomatosis           105\n",
       "STDs:vulvo-perineal condylomatosis    105\n",
       "STDs:syphilis                         105\n",
       "STDs:pelvic inflammatory disease      105\n",
       "STDs:genital herpes                   105\n",
       "STDs:molluscum contagiosum            105\n",
       "STDs:AIDS                             105\n",
       "STDs:HIV                              105\n",
       "STDs:Hepatitis B                      105\n",
       "STDs:HPV                              105\n",
       "STDs: Number of diagnosis               0\n",
       "STDs: Time since first diagnosis      787\n",
       "STDs: Time since last diagnosis       787\n",
       "Dx:Cancer                               0\n",
       "Dx:CIN                                  0\n",
       "Dx:HPV                                  0\n",
       "Dx                                      0\n",
       "Hinselmann                              0\n",
       "Schiller                                0\n",
       "Citology                                0\n",
       "Biopsy                                  0\n",
       "dtype: int64"
      ]
     },
     "execution_count": 27,
     "metadata": {},
     "output_type": "execute_result"
    }
   ],
   "source": [
    "# Check number of missing values for each of the remaining features. \n",
    "data.isnull().sum()"
   ]
  },
  {
   "cell_type": "markdown",
   "metadata": {},
   "source": [
    "### Imputing the missing values"
   ]
  },
  {
   "cell_type": "markdown",
   "metadata": {},
   "source": [
    "## for older sklearn version\n",
    "from sklearn.preprocessing import Imputer\n",
    "imputer = Imputer(missing_values=np.nan, \n",
    "                        strategy='median')"
   ]
  },
  {
   "cell_type": "code",
   "execution_count": 28,
   "metadata": {},
   "outputs": [],
   "source": [
    "from sklearn.impute import SimpleImputer\n",
    "imputer = SimpleImputer(missing_values=np.nan, \n",
    "                        strategy='median')"
   ]
  },
  {
   "cell_type": "code",
   "execution_count": 29,
   "metadata": {},
   "outputs": [],
   "source": [
    "data[numerical] = pd.DataFrame(imputer.fit_transform(data[numerical]))"
   ]
  },
  {
   "cell_type": "code",
   "execution_count": 30,
   "metadata": {},
   "outputs": [
    {
     "data": {
      "text/plain": [
       "Age                                     0\n",
       "Number of sexual partners               0\n",
       "First sexual intercourse                0\n",
       "Num of pregnancies                      0\n",
       "Smokes                                 13\n",
       "Smokes (years)                          0\n",
       "Smokes (packs/year)                     0\n",
       "Hormonal Contraceptives               108\n",
       "Hormonal Contraceptives (years)         0\n",
       "IUD                                   117\n",
       "IUD (years)                             0\n",
       "STDs                                  105\n",
       "STDs (number)                           0\n",
       "STDs:condylomatosis                   105\n",
       "STDs:cervical condylomatosis          105\n",
       "STDs:vaginal condylomatosis           105\n",
       "STDs:vulvo-perineal condylomatosis    105\n",
       "STDs:syphilis                         105\n",
       "STDs:pelvic inflammatory disease      105\n",
       "STDs:genital herpes                   105\n",
       "STDs:molluscum contagiosum            105\n",
       "STDs:AIDS                             105\n",
       "STDs:HIV                              105\n",
       "STDs:Hepatitis B                      105\n",
       "STDs:HPV                              105\n",
       "STDs: Number of diagnosis               0\n",
       "STDs: Time since first diagnosis      787\n",
       "STDs: Time since last diagnosis       787\n",
       "Dx:Cancer                               0\n",
       "Dx:CIN                                  0\n",
       "Dx:HPV                                  0\n",
       "Dx                                      0\n",
       "Hinselmann                              0\n",
       "Schiller                                0\n",
       "Citology                                0\n",
       "Biopsy                                  0\n",
       "dtype: int64"
      ]
     },
     "execution_count": 30,
     "metadata": {},
     "output_type": "execute_result"
    }
   ],
   "source": [
    "data.isnull().sum()"
   ]
  },
  {
   "cell_type": "code",
   "execution_count": 31,
   "metadata": {},
   "outputs": [],
   "source": [
    "data.dropna(axis=0,subset=categorical,inplace=True)"
   ]
  },
  {
   "cell_type": "code",
   "execution_count": 32,
   "metadata": {},
   "outputs": [
    {
     "name": "stdout",
     "output_type": "stream",
     "text": [
      "['Age', 'Number of sexual partners', 'First sexual intercourse', 'Num of pregnancies', 'Smokes (years)', 'Smokes (packs/year)', 'Hormonal Contraceptives (years)', 'IUD (years)', 'STDs (number)', 'STDs: Number of diagnosis', 'STDs', 'STDs:condylomatosis', 'STDs:cervical condylomatosis', 'STDs:vaginal condylomatosis', 'STDs:vulvo-perineal condylomatosis', 'STDs:syphilis', 'STDs:pelvic inflammatory disease', 'STDs:genital herpes', 'STDs:molluscum contagiosum', 'STDs:HIV', 'STDs:Hepatitis B', 'STDs:HPV', 'Dx:Cancer', 'Dx:CIN', 'Dx:HPV', 'Hinselmann', 'Schiller', 'Citology', 'Biopsy']\n"
     ]
    },
    {
     "data": {
      "text/plain": [
       "(None, 29)"
      ]
     },
     "execution_count": 32,
     "metadata": {},
     "output_type": "execute_result"
    }
   ],
   "source": [
    "selected_columns = numerical + categorical + target\n",
    "print(selected_columns), len(selected_columns)"
   ]
  },
  {
   "cell_type": "code",
   "execution_count": 33,
   "metadata": {},
   "outputs": [
    {
     "data": {
      "text/plain": [
       "(753, 29)"
      ]
     },
     "execution_count": 33,
     "metadata": {},
     "output_type": "execute_result"
    }
   ],
   "source": [
    "data = data[selected_columns]\n",
    "data.shape"
   ]
  },
  {
   "cell_type": "code",
   "execution_count": 34,
   "metadata": {},
   "outputs": [
    {
     "name": "stdout",
     "output_type": "stream",
     "text": [
      "0    700\n",
      "1     53\n",
      "Name: Biopsy, dtype: int64\n",
      "0    718\n",
      "1     35\n",
      "Name: Hinselmann, dtype: int64\n",
      "0    680\n",
      "1     73\n",
      "Name: Schiller, dtype: int64\n",
      "0    712\n",
      "1     41\n",
      "Name: Citology, dtype: int64\n"
     ]
    }
   ],
   "source": [
    "print(data['Biopsy'].value_counts())\n",
    "print(data['Hinselmann'].value_counts())\n",
    "print(data['Schiller'].value_counts())\n",
    "print(data['Citology'].value_counts())"
   ]
  },
  {
   "cell_type": "code",
   "execution_count": 35,
   "metadata": {},
   "outputs": [
    {
     "data": {
      "text/plain": [
       "Age                                   0\n",
       "Number of sexual partners             0\n",
       "First sexual intercourse              0\n",
       "Num of pregnancies                    0\n",
       "Smokes (years)                        0\n",
       "Smokes (packs/year)                   0\n",
       "Hormonal Contraceptives (years)       0\n",
       "IUD (years)                           0\n",
       "STDs (number)                         0\n",
       "STDs: Number of diagnosis             0\n",
       "STDs                                  0\n",
       "STDs:condylomatosis                   0\n",
       "STDs:cervical condylomatosis          0\n",
       "STDs:vaginal condylomatosis           0\n",
       "STDs:vulvo-perineal condylomatosis    0\n",
       "STDs:syphilis                         0\n",
       "STDs:pelvic inflammatory disease      0\n",
       "STDs:genital herpes                   0\n",
       "STDs:molluscum contagiosum            0\n",
       "STDs:HIV                              0\n",
       "STDs:Hepatitis B                      0\n",
       "STDs:HPV                              0\n",
       "Dx:Cancer                             0\n",
       "Dx:CIN                                0\n",
       "Dx:HPV                                0\n",
       "Hinselmann                            0\n",
       "Schiller                              0\n",
       "Citology                              0\n",
       "Biopsy                                0\n",
       "dtype: int64"
      ]
     },
     "execution_count": 35,
     "metadata": {},
     "output_type": "execute_result"
    }
   ],
   "source": [
    "data.isnull().sum()"
   ]
  },
  {
   "cell_type": "markdown",
   "metadata": {},
   "source": [
    "## Data Scaling"
   ]
  },
  {
   "cell_type": "code",
   "execution_count": 36,
   "metadata": {},
   "outputs": [
    {
     "data": {
      "text/html": [
       "<div>\n",
       "<style scoped>\n",
       "    .dataframe tbody tr th:only-of-type {\n",
       "        vertical-align: middle;\n",
       "    }\n",
       "\n",
       "    .dataframe tbody tr th {\n",
       "        vertical-align: top;\n",
       "    }\n",
       "\n",
       "    .dataframe thead th {\n",
       "        text-align: right;\n",
       "    }\n",
       "</style>\n",
       "<table border=\"1\" class=\"dataframe\">\n",
       "  <thead>\n",
       "    <tr style=\"text-align: right;\">\n",
       "      <th></th>\n",
       "      <th>Age</th>\n",
       "      <th>Number of sexual partners</th>\n",
       "      <th>First sexual intercourse</th>\n",
       "      <th>Num of pregnancies</th>\n",
       "      <th>Smokes (years)</th>\n",
       "      <th>Smokes (packs/year)</th>\n",
       "      <th>Hormonal Contraceptives (years)</th>\n",
       "      <th>IUD (years)</th>\n",
       "      <th>STDs (number)</th>\n",
       "      <th>STDs: Number of diagnosis</th>\n",
       "      <th>...</th>\n",
       "      <th>STDs:HIV</th>\n",
       "      <th>STDs:Hepatitis B</th>\n",
       "      <th>STDs:HPV</th>\n",
       "      <th>Dx:Cancer</th>\n",
       "      <th>Dx:CIN</th>\n",
       "      <th>Dx:HPV</th>\n",
       "      <th>Hinselmann</th>\n",
       "      <th>Schiller</th>\n",
       "      <th>Citology</th>\n",
       "      <th>Biopsy</th>\n",
       "    </tr>\n",
       "  </thead>\n",
       "  <tbody>\n",
       "    <tr>\n",
       "      <th>count</th>\n",
       "      <td>753.00000</td>\n",
       "      <td>753.000000</td>\n",
       "      <td>753.000000</td>\n",
       "      <td>753.000000</td>\n",
       "      <td>753.000000</td>\n",
       "      <td>753.000000</td>\n",
       "      <td>753.000000</td>\n",
       "      <td>753.000000</td>\n",
       "      <td>753.000000</td>\n",
       "      <td>753.000000</td>\n",
       "      <td>...</td>\n",
       "      <td>753.000000</td>\n",
       "      <td>753.000000</td>\n",
       "      <td>753.000000</td>\n",
       "      <td>753.000000</td>\n",
       "      <td>753.000000</td>\n",
       "      <td>753.000000</td>\n",
       "      <td>753.000000</td>\n",
       "      <td>753.000000</td>\n",
       "      <td>753.000000</td>\n",
       "      <td>753.000000</td>\n",
       "    </tr>\n",
       "    <tr>\n",
       "      <th>mean</th>\n",
       "      <td>27.22842</td>\n",
       "      <td>2.519256</td>\n",
       "      <td>17.088977</td>\n",
       "      <td>2.297477</td>\n",
       "      <td>1.210974</td>\n",
       "      <td>0.458142</td>\n",
       "      <td>2.182463</td>\n",
       "      <td>0.506600</td>\n",
       "      <td>0.176627</td>\n",
       "      <td>0.099602</td>\n",
       "      <td>...</td>\n",
       "      <td>0.023904</td>\n",
       "      <td>0.001328</td>\n",
       "      <td>0.002656</td>\n",
       "      <td>0.023904</td>\n",
       "      <td>0.010624</td>\n",
       "      <td>0.023904</td>\n",
       "      <td>0.046481</td>\n",
       "      <td>0.096946</td>\n",
       "      <td>0.054449</td>\n",
       "      <td>0.070385</td>\n",
       "    </tr>\n",
       "    <tr>\n",
       "      <th>std</th>\n",
       "      <td>8.68086</td>\n",
       "      <td>1.670286</td>\n",
       "      <td>2.832430</td>\n",
       "      <td>1.426089</td>\n",
       "      <td>4.115163</td>\n",
       "      <td>2.286894</td>\n",
       "      <td>3.609888</td>\n",
       "      <td>1.928602</td>\n",
       "      <td>0.561993</td>\n",
       "      <td>0.321089</td>\n",
       "      <td>...</td>\n",
       "      <td>0.152853</td>\n",
       "      <td>0.036442</td>\n",
       "      <td>0.051503</td>\n",
       "      <td>0.152853</td>\n",
       "      <td>0.102593</td>\n",
       "      <td>0.152853</td>\n",
       "      <td>0.210664</td>\n",
       "      <td>0.296080</td>\n",
       "      <td>0.227052</td>\n",
       "      <td>0.255965</td>\n",
       "    </tr>\n",
       "    <tr>\n",
       "      <th>min</th>\n",
       "      <td>13.00000</td>\n",
       "      <td>1.000000</td>\n",
       "      <td>10.000000</td>\n",
       "      <td>0.000000</td>\n",
       "      <td>0.000000</td>\n",
       "      <td>0.000000</td>\n",
       "      <td>0.000000</td>\n",
       "      <td>0.000000</td>\n",
       "      <td>0.000000</td>\n",
       "      <td>0.000000</td>\n",
       "      <td>...</td>\n",
       "      <td>0.000000</td>\n",
       "      <td>0.000000</td>\n",
       "      <td>0.000000</td>\n",
       "      <td>0.000000</td>\n",
       "      <td>0.000000</td>\n",
       "      <td>0.000000</td>\n",
       "      <td>0.000000</td>\n",
       "      <td>0.000000</td>\n",
       "      <td>0.000000</td>\n",
       "      <td>0.000000</td>\n",
       "    </tr>\n",
       "    <tr>\n",
       "      <th>25%</th>\n",
       "      <td>21.00000</td>\n",
       "      <td>2.000000</td>\n",
       "      <td>15.000000</td>\n",
       "      <td>1.000000</td>\n",
       "      <td>0.000000</td>\n",
       "      <td>0.000000</td>\n",
       "      <td>0.000000</td>\n",
       "      <td>0.000000</td>\n",
       "      <td>0.000000</td>\n",
       "      <td>0.000000</td>\n",
       "      <td>...</td>\n",
       "      <td>0.000000</td>\n",
       "      <td>0.000000</td>\n",
       "      <td>0.000000</td>\n",
       "      <td>0.000000</td>\n",
       "      <td>0.000000</td>\n",
       "      <td>0.000000</td>\n",
       "      <td>0.000000</td>\n",
       "      <td>0.000000</td>\n",
       "      <td>0.000000</td>\n",
       "      <td>0.000000</td>\n",
       "    </tr>\n",
       "    <tr>\n",
       "      <th>50%</th>\n",
       "      <td>26.00000</td>\n",
       "      <td>2.000000</td>\n",
       "      <td>17.000000</td>\n",
       "      <td>2.000000</td>\n",
       "      <td>0.000000</td>\n",
       "      <td>0.000000</td>\n",
       "      <td>0.500000</td>\n",
       "      <td>0.000000</td>\n",
       "      <td>0.000000</td>\n",
       "      <td>0.000000</td>\n",
       "      <td>...</td>\n",
       "      <td>0.000000</td>\n",
       "      <td>0.000000</td>\n",
       "      <td>0.000000</td>\n",
       "      <td>0.000000</td>\n",
       "      <td>0.000000</td>\n",
       "      <td>0.000000</td>\n",
       "      <td>0.000000</td>\n",
       "      <td>0.000000</td>\n",
       "      <td>0.000000</td>\n",
       "      <td>0.000000</td>\n",
       "    </tr>\n",
       "    <tr>\n",
       "      <th>75%</th>\n",
       "      <td>33.00000</td>\n",
       "      <td>3.000000</td>\n",
       "      <td>18.000000</td>\n",
       "      <td>3.000000</td>\n",
       "      <td>0.000000</td>\n",
       "      <td>0.000000</td>\n",
       "      <td>3.000000</td>\n",
       "      <td>0.000000</td>\n",
       "      <td>0.000000</td>\n",
       "      <td>0.000000</td>\n",
       "      <td>...</td>\n",
       "      <td>0.000000</td>\n",
       "      <td>0.000000</td>\n",
       "      <td>0.000000</td>\n",
       "      <td>0.000000</td>\n",
       "      <td>0.000000</td>\n",
       "      <td>0.000000</td>\n",
       "      <td>0.000000</td>\n",
       "      <td>0.000000</td>\n",
       "      <td>0.000000</td>\n",
       "      <td>0.000000</td>\n",
       "    </tr>\n",
       "    <tr>\n",
       "      <th>max</th>\n",
       "      <td>84.00000</td>\n",
       "      <td>28.000000</td>\n",
       "      <td>32.000000</td>\n",
       "      <td>11.000000</td>\n",
       "      <td>37.000000</td>\n",
       "      <td>37.000000</td>\n",
       "      <td>22.000000</td>\n",
       "      <td>19.000000</td>\n",
       "      <td>4.000000</td>\n",
       "      <td>3.000000</td>\n",
       "      <td>...</td>\n",
       "      <td>1.000000</td>\n",
       "      <td>1.000000</td>\n",
       "      <td>1.000000</td>\n",
       "      <td>1.000000</td>\n",
       "      <td>1.000000</td>\n",
       "      <td>1.000000</td>\n",
       "      <td>1.000000</td>\n",
       "      <td>1.000000</td>\n",
       "      <td>1.000000</td>\n",
       "      <td>1.000000</td>\n",
       "    </tr>\n",
       "  </tbody>\n",
       "</table>\n",
       "<p>8 rows × 29 columns</p>\n",
       "</div>"
      ],
      "text/plain": [
       "             Age  Number of sexual partners  First sexual intercourse  \\\n",
       "count  753.00000                 753.000000                753.000000   \n",
       "mean    27.22842                   2.519256                 17.088977   \n",
       "std      8.68086                   1.670286                  2.832430   \n",
       "min     13.00000                   1.000000                 10.000000   \n",
       "25%     21.00000                   2.000000                 15.000000   \n",
       "50%     26.00000                   2.000000                 17.000000   \n",
       "75%     33.00000                   3.000000                 18.000000   \n",
       "max     84.00000                  28.000000                 32.000000   \n",
       "\n",
       "       Num of pregnancies  Smokes (years)  Smokes (packs/year)  \\\n",
       "count          753.000000      753.000000           753.000000   \n",
       "mean             2.297477        1.210974             0.458142   \n",
       "std              1.426089        4.115163             2.286894   \n",
       "min              0.000000        0.000000             0.000000   \n",
       "25%              1.000000        0.000000             0.000000   \n",
       "50%              2.000000        0.000000             0.000000   \n",
       "75%              3.000000        0.000000             0.000000   \n",
       "max             11.000000       37.000000            37.000000   \n",
       "\n",
       "       Hormonal Contraceptives (years)  IUD (years)  STDs (number)  \\\n",
       "count                       753.000000   753.000000     753.000000   \n",
       "mean                          2.182463     0.506600       0.176627   \n",
       "std                           3.609888     1.928602       0.561993   \n",
       "min                           0.000000     0.000000       0.000000   \n",
       "25%                           0.000000     0.000000       0.000000   \n",
       "50%                           0.500000     0.000000       0.000000   \n",
       "75%                           3.000000     0.000000       0.000000   \n",
       "max                          22.000000    19.000000       4.000000   \n",
       "\n",
       "       STDs: Number of diagnosis  ...    STDs:HIV  STDs:Hepatitis B  \\\n",
       "count                 753.000000  ...  753.000000        753.000000   \n",
       "mean                    0.099602  ...    0.023904          0.001328   \n",
       "std                     0.321089  ...    0.152853          0.036442   \n",
       "min                     0.000000  ...    0.000000          0.000000   \n",
       "25%                     0.000000  ...    0.000000          0.000000   \n",
       "50%                     0.000000  ...    0.000000          0.000000   \n",
       "75%                     0.000000  ...    0.000000          0.000000   \n",
       "max                     3.000000  ...    1.000000          1.000000   \n",
       "\n",
       "         STDs:HPV   Dx:Cancer      Dx:CIN      Dx:HPV  Hinselmann    Schiller  \\\n",
       "count  753.000000  753.000000  753.000000  753.000000  753.000000  753.000000   \n",
       "mean     0.002656    0.023904    0.010624    0.023904    0.046481    0.096946   \n",
       "std      0.051503    0.152853    0.102593    0.152853    0.210664    0.296080   \n",
       "min      0.000000    0.000000    0.000000    0.000000    0.000000    0.000000   \n",
       "25%      0.000000    0.000000    0.000000    0.000000    0.000000    0.000000   \n",
       "50%      0.000000    0.000000    0.000000    0.000000    0.000000    0.000000   \n",
       "75%      0.000000    0.000000    0.000000    0.000000    0.000000    0.000000   \n",
       "max      1.000000    1.000000    1.000000    1.000000    1.000000    1.000000   \n",
       "\n",
       "         Citology      Biopsy  \n",
       "count  753.000000  753.000000  \n",
       "mean     0.054449    0.070385  \n",
       "std      0.227052    0.255965  \n",
       "min      0.000000    0.000000  \n",
       "25%      0.000000    0.000000  \n",
       "50%      0.000000    0.000000  \n",
       "75%      0.000000    0.000000  \n",
       "max      1.000000    1.000000  \n",
       "\n",
       "[8 rows x 29 columns]"
      ]
     },
     "execution_count": 36,
     "metadata": {},
     "output_type": "execute_result"
    }
   ],
   "source": [
    "data.describe()"
   ]
  },
  {
   "cell_type": "code",
   "execution_count": 37,
   "metadata": {},
   "outputs": [
    {
     "name": "stderr",
     "output_type": "stream",
     "text": [
      "/anaconda3/envs/tutor/lib/python3.6/site-packages/ipykernel_launcher.py:4: SettingWithCopyWarning: \n",
      "A value is trying to be set on a copy of a slice from a DataFrame.\n",
      "Try using .loc[row_indexer,col_indexer] = value instead\n",
      "\n",
      "See the caveats in the documentation: http://pandas.pydata.org/pandas-docs/stable/indexing.html#indexing-view-versus-copy\n",
      "  after removing the cwd from sys.path.\n",
      "/anaconda3/envs/tutor/lib/python3.6/site-packages/pandas/core/indexing.py:543: SettingWithCopyWarning: \n",
      "A value is trying to be set on a copy of a slice from a DataFrame.\n",
      "Try using .loc[row_indexer,col_indexer] = value instead\n",
      "\n",
      "See the caveats in the documentation: http://pandas.pydata.org/pandas-docs/stable/indexing.html#indexing-view-versus-copy\n",
      "  self.obj[item] = s\n"
     ]
    }
   ],
   "source": [
    "from sklearn.preprocessing import MinMaxScaler\n",
    "scaler = MinMaxScaler()\n",
    "scaler.fit(data[numerical])\n",
    "data[numerical] = scaler.transform(data[numerical])"
   ]
  },
  {
   "cell_type": "code",
   "execution_count": 38,
   "metadata": {},
   "outputs": [
    {
     "data": {
      "text/html": [
       "<div>\n",
       "<style scoped>\n",
       "    .dataframe tbody tr th:only-of-type {\n",
       "        vertical-align: middle;\n",
       "    }\n",
       "\n",
       "    .dataframe tbody tr th {\n",
       "        vertical-align: top;\n",
       "    }\n",
       "\n",
       "    .dataframe thead th {\n",
       "        text-align: right;\n",
       "    }\n",
       "</style>\n",
       "<table border=\"1\" class=\"dataframe\">\n",
       "  <thead>\n",
       "    <tr style=\"text-align: right;\">\n",
       "      <th></th>\n",
       "      <th>Age</th>\n",
       "      <th>Number of sexual partners</th>\n",
       "      <th>First sexual intercourse</th>\n",
       "      <th>Num of pregnancies</th>\n",
       "      <th>Smokes (years)</th>\n",
       "      <th>Smokes (packs/year)</th>\n",
       "      <th>Hormonal Contraceptives (years)</th>\n",
       "      <th>IUD (years)</th>\n",
       "      <th>STDs (number)</th>\n",
       "      <th>STDs: Number of diagnosis</th>\n",
       "      <th>...</th>\n",
       "      <th>STDs:HIV</th>\n",
       "      <th>STDs:Hepatitis B</th>\n",
       "      <th>STDs:HPV</th>\n",
       "      <th>Dx:Cancer</th>\n",
       "      <th>Dx:CIN</th>\n",
       "      <th>Dx:HPV</th>\n",
       "      <th>Hinselmann</th>\n",
       "      <th>Schiller</th>\n",
       "      <th>Citology</th>\n",
       "      <th>Biopsy</th>\n",
       "    </tr>\n",
       "  </thead>\n",
       "  <tbody>\n",
       "    <tr>\n",
       "      <th>count</th>\n",
       "      <td>753.000000</td>\n",
       "      <td>753.000000</td>\n",
       "      <td>753.000000</td>\n",
       "      <td>753.000000</td>\n",
       "      <td>753.000000</td>\n",
       "      <td>753.000000</td>\n",
       "      <td>753.000000</td>\n",
       "      <td>753.000000</td>\n",
       "      <td>753.000000</td>\n",
       "      <td>753.000000</td>\n",
       "      <td>...</td>\n",
       "      <td>753.000000</td>\n",
       "      <td>753.000000</td>\n",
       "      <td>753.000000</td>\n",
       "      <td>753.000000</td>\n",
       "      <td>753.000000</td>\n",
       "      <td>753.000000</td>\n",
       "      <td>753.000000</td>\n",
       "      <td>753.000000</td>\n",
       "      <td>753.000000</td>\n",
       "      <td>753.000000</td>\n",
       "    </tr>\n",
       "    <tr>\n",
       "      <th>mean</th>\n",
       "      <td>0.200400</td>\n",
       "      <td>0.056269</td>\n",
       "      <td>0.322226</td>\n",
       "      <td>0.208862</td>\n",
       "      <td>0.032729</td>\n",
       "      <td>0.012382</td>\n",
       "      <td>0.099203</td>\n",
       "      <td>0.026663</td>\n",
       "      <td>0.044157</td>\n",
       "      <td>0.033201</td>\n",
       "      <td>...</td>\n",
       "      <td>0.023904</td>\n",
       "      <td>0.001328</td>\n",
       "      <td>0.002656</td>\n",
       "      <td>0.023904</td>\n",
       "      <td>0.010624</td>\n",
       "      <td>0.023904</td>\n",
       "      <td>0.046481</td>\n",
       "      <td>0.096946</td>\n",
       "      <td>0.054449</td>\n",
       "      <td>0.070385</td>\n",
       "    </tr>\n",
       "    <tr>\n",
       "      <th>std</th>\n",
       "      <td>0.122266</td>\n",
       "      <td>0.061862</td>\n",
       "      <td>0.128747</td>\n",
       "      <td>0.129644</td>\n",
       "      <td>0.111221</td>\n",
       "      <td>0.061808</td>\n",
       "      <td>0.164086</td>\n",
       "      <td>0.101505</td>\n",
       "      <td>0.140498</td>\n",
       "      <td>0.107030</td>\n",
       "      <td>...</td>\n",
       "      <td>0.152853</td>\n",
       "      <td>0.036442</td>\n",
       "      <td>0.051503</td>\n",
       "      <td>0.152853</td>\n",
       "      <td>0.102593</td>\n",
       "      <td>0.152853</td>\n",
       "      <td>0.210664</td>\n",
       "      <td>0.296080</td>\n",
       "      <td>0.227052</td>\n",
       "      <td>0.255965</td>\n",
       "    </tr>\n",
       "    <tr>\n",
       "      <th>min</th>\n",
       "      <td>0.000000</td>\n",
       "      <td>0.000000</td>\n",
       "      <td>0.000000</td>\n",
       "      <td>0.000000</td>\n",
       "      <td>0.000000</td>\n",
       "      <td>0.000000</td>\n",
       "      <td>0.000000</td>\n",
       "      <td>0.000000</td>\n",
       "      <td>0.000000</td>\n",
       "      <td>0.000000</td>\n",
       "      <td>...</td>\n",
       "      <td>0.000000</td>\n",
       "      <td>0.000000</td>\n",
       "      <td>0.000000</td>\n",
       "      <td>0.000000</td>\n",
       "      <td>0.000000</td>\n",
       "      <td>0.000000</td>\n",
       "      <td>0.000000</td>\n",
       "      <td>0.000000</td>\n",
       "      <td>0.000000</td>\n",
       "      <td>0.000000</td>\n",
       "    </tr>\n",
       "    <tr>\n",
       "      <th>25%</th>\n",
       "      <td>0.112676</td>\n",
       "      <td>0.037037</td>\n",
       "      <td>0.227273</td>\n",
       "      <td>0.090909</td>\n",
       "      <td>0.000000</td>\n",
       "      <td>0.000000</td>\n",
       "      <td>0.000000</td>\n",
       "      <td>0.000000</td>\n",
       "      <td>0.000000</td>\n",
       "      <td>0.000000</td>\n",
       "      <td>...</td>\n",
       "      <td>0.000000</td>\n",
       "      <td>0.000000</td>\n",
       "      <td>0.000000</td>\n",
       "      <td>0.000000</td>\n",
       "      <td>0.000000</td>\n",
       "      <td>0.000000</td>\n",
       "      <td>0.000000</td>\n",
       "      <td>0.000000</td>\n",
       "      <td>0.000000</td>\n",
       "      <td>0.000000</td>\n",
       "    </tr>\n",
       "    <tr>\n",
       "      <th>50%</th>\n",
       "      <td>0.183099</td>\n",
       "      <td>0.037037</td>\n",
       "      <td>0.318182</td>\n",
       "      <td>0.181818</td>\n",
       "      <td>0.000000</td>\n",
       "      <td>0.000000</td>\n",
       "      <td>0.022727</td>\n",
       "      <td>0.000000</td>\n",
       "      <td>0.000000</td>\n",
       "      <td>0.000000</td>\n",
       "      <td>...</td>\n",
       "      <td>0.000000</td>\n",
       "      <td>0.000000</td>\n",
       "      <td>0.000000</td>\n",
       "      <td>0.000000</td>\n",
       "      <td>0.000000</td>\n",
       "      <td>0.000000</td>\n",
       "      <td>0.000000</td>\n",
       "      <td>0.000000</td>\n",
       "      <td>0.000000</td>\n",
       "      <td>0.000000</td>\n",
       "    </tr>\n",
       "    <tr>\n",
       "      <th>75%</th>\n",
       "      <td>0.281690</td>\n",
       "      <td>0.074074</td>\n",
       "      <td>0.363636</td>\n",
       "      <td>0.272727</td>\n",
       "      <td>0.000000</td>\n",
       "      <td>0.000000</td>\n",
       "      <td>0.136364</td>\n",
       "      <td>0.000000</td>\n",
       "      <td>0.000000</td>\n",
       "      <td>0.000000</td>\n",
       "      <td>...</td>\n",
       "      <td>0.000000</td>\n",
       "      <td>0.000000</td>\n",
       "      <td>0.000000</td>\n",
       "      <td>0.000000</td>\n",
       "      <td>0.000000</td>\n",
       "      <td>0.000000</td>\n",
       "      <td>0.000000</td>\n",
       "      <td>0.000000</td>\n",
       "      <td>0.000000</td>\n",
       "      <td>0.000000</td>\n",
       "    </tr>\n",
       "    <tr>\n",
       "      <th>max</th>\n",
       "      <td>1.000000</td>\n",
       "      <td>1.000000</td>\n",
       "      <td>1.000000</td>\n",
       "      <td>1.000000</td>\n",
       "      <td>1.000000</td>\n",
       "      <td>1.000000</td>\n",
       "      <td>1.000000</td>\n",
       "      <td>1.000000</td>\n",
       "      <td>1.000000</td>\n",
       "      <td>1.000000</td>\n",
       "      <td>...</td>\n",
       "      <td>1.000000</td>\n",
       "      <td>1.000000</td>\n",
       "      <td>1.000000</td>\n",
       "      <td>1.000000</td>\n",
       "      <td>1.000000</td>\n",
       "      <td>1.000000</td>\n",
       "      <td>1.000000</td>\n",
       "      <td>1.000000</td>\n",
       "      <td>1.000000</td>\n",
       "      <td>1.000000</td>\n",
       "    </tr>\n",
       "  </tbody>\n",
       "</table>\n",
       "<p>8 rows × 29 columns</p>\n",
       "</div>"
      ],
      "text/plain": [
       "              Age  Number of sexual partners  First sexual intercourse  \\\n",
       "count  753.000000                 753.000000                753.000000   \n",
       "mean     0.200400                   0.056269                  0.322226   \n",
       "std      0.122266                   0.061862                  0.128747   \n",
       "min      0.000000                   0.000000                  0.000000   \n",
       "25%      0.112676                   0.037037                  0.227273   \n",
       "50%      0.183099                   0.037037                  0.318182   \n",
       "75%      0.281690                   0.074074                  0.363636   \n",
       "max      1.000000                   1.000000                  1.000000   \n",
       "\n",
       "       Num of pregnancies  Smokes (years)  Smokes (packs/year)  \\\n",
       "count          753.000000      753.000000           753.000000   \n",
       "mean             0.208862        0.032729             0.012382   \n",
       "std              0.129644        0.111221             0.061808   \n",
       "min              0.000000        0.000000             0.000000   \n",
       "25%              0.090909        0.000000             0.000000   \n",
       "50%              0.181818        0.000000             0.000000   \n",
       "75%              0.272727        0.000000             0.000000   \n",
       "max              1.000000        1.000000             1.000000   \n",
       "\n",
       "       Hormonal Contraceptives (years)  IUD (years)  STDs (number)  \\\n",
       "count                       753.000000   753.000000     753.000000   \n",
       "mean                          0.099203     0.026663       0.044157   \n",
       "std                           0.164086     0.101505       0.140498   \n",
       "min                           0.000000     0.000000       0.000000   \n",
       "25%                           0.000000     0.000000       0.000000   \n",
       "50%                           0.022727     0.000000       0.000000   \n",
       "75%                           0.136364     0.000000       0.000000   \n",
       "max                           1.000000     1.000000       1.000000   \n",
       "\n",
       "       STDs: Number of diagnosis  ...    STDs:HIV  STDs:Hepatitis B  \\\n",
       "count                 753.000000  ...  753.000000        753.000000   \n",
       "mean                    0.033201  ...    0.023904          0.001328   \n",
       "std                     0.107030  ...    0.152853          0.036442   \n",
       "min                     0.000000  ...    0.000000          0.000000   \n",
       "25%                     0.000000  ...    0.000000          0.000000   \n",
       "50%                     0.000000  ...    0.000000          0.000000   \n",
       "75%                     0.000000  ...    0.000000          0.000000   \n",
       "max                     1.000000  ...    1.000000          1.000000   \n",
       "\n",
       "         STDs:HPV   Dx:Cancer      Dx:CIN      Dx:HPV  Hinselmann    Schiller  \\\n",
       "count  753.000000  753.000000  753.000000  753.000000  753.000000  753.000000   \n",
       "mean     0.002656    0.023904    0.010624    0.023904    0.046481    0.096946   \n",
       "std      0.051503    0.152853    0.102593    0.152853    0.210664    0.296080   \n",
       "min      0.000000    0.000000    0.000000    0.000000    0.000000    0.000000   \n",
       "25%      0.000000    0.000000    0.000000    0.000000    0.000000    0.000000   \n",
       "50%      0.000000    0.000000    0.000000    0.000000    0.000000    0.000000   \n",
       "75%      0.000000    0.000000    0.000000    0.000000    0.000000    0.000000   \n",
       "max      1.000000    1.000000    1.000000    1.000000    1.000000    1.000000   \n",
       "\n",
       "         Citology      Biopsy  \n",
       "count  753.000000  753.000000  \n",
       "mean     0.054449    0.070385  \n",
       "std      0.227052    0.255965  \n",
       "min      0.000000    0.000000  \n",
       "25%      0.000000    0.000000  \n",
       "50%      0.000000    0.000000  \n",
       "75%      0.000000    0.000000  \n",
       "max      1.000000    1.000000  \n",
       "\n",
       "[8 rows x 29 columns]"
      ]
     },
     "execution_count": 38,
     "metadata": {},
     "output_type": "execute_result"
    }
   ],
   "source": [
    "data.describe()"
   ]
  },
  {
   "cell_type": "markdown",
   "metadata": {},
   "source": [
    "# Modelling"
   ]
  },
  {
   "cell_type": "markdown",
   "metadata": {},
   "source": [
    "## Preparing train and test sets"
   ]
  },
  {
   "cell_type": "markdown",
   "metadata": {},
   "source": [
    "#### The final selected features: \n",
    "1. 'Age',\n",
    "2. 'Number of sexual partners',\n",
    "3. 'First sexual intercourse', \n",
    "4. 'Num of pregnancies', \n",
    "5. 'Smokes (years)', \n",
    "6. 'Smokes (packs/year)', \n",
    "7. 'Hormonal Contraceptives (years)', \n",
    "8. 'IUD (years)', \n",
    "9. 'STDs', \n",
    "10. 'STDs (number)', \n",
    "11. 'STDs:condylomatosis', \n",
    "12. 'STDs:cervical condylomatosis',\n",
    "13. 'STDs:vaginal condylomatosis', \n",
    "14. 'STDs:vulvo-perineal condylomatosis',\n",
    "15. 'STDs:syphilis', \n",
    "16. 'STDs:pelvic inflammatory disease',\n",
    "17. 'STDs:genital herpes', \n",
    "18. 'STDs:molluscum contagiosum', \n",
    "19. 'STDs:AIDS',\n",
    "20. 'STDs:HIV', \n",
    "21. 'STDs:Hepatitis B', \n",
    "22. 'STDs:HPV', \n",
    "23. 'STDs: Number of diagnosis', \n",
    "24. 'Dx:Cancer', \n",
    "25. 'Dx:CIN', \n",
    "26. 'Dx:HPV'"
   ]
  },
  {
   "cell_type": "code",
   "execution_count": 39,
   "metadata": {},
   "outputs": [],
   "source": [
    "risk_factors = data[numerical + categorical].copy() #make sure to do deep copy\n",
    "risk_factors = risk_factors.values.astype(np.float64)"
   ]
  },
  {
   "cell_type": "code",
   "execution_count": 40,
   "metadata": {},
   "outputs": [
    {
     "data": {
      "text/plain": [
       "(numpy.ndarray, (753, 25))"
      ]
     },
     "execution_count": 40,
     "metadata": {},
     "output_type": "execute_result"
    }
   ],
   "source": [
    "type(risk_factors), risk_factors.shape"
   ]
  },
  {
   "cell_type": "code",
   "execution_count": 41,
   "metadata": {},
   "outputs": [],
   "source": [
    "labels = data[target].copy() ##make sure to do deepcopy"
   ]
  },
  {
   "cell_type": "markdown",
   "metadata": {},
   "source": [
    "There are 4 target variables in the dataset. \n",
    "\n",
    "For building the model, Let us consider a new variable cervical_cancer which is the sum of the 4 target variables. \n",
    "\n",
    "That is, `Cervical_cancer = Hinselmann + Schiller + Citology + Biopsy` \n",
    "\n",
    "This gives five different values ranging from 0 to 4. These values represent the level of risk i.e. 0 represent no risk and 4 represents higher level of risk. So, the final class/target variables are 0, 1, 2, 3, 4."
   ]
  },
  {
   "cell_type": "code",
   "execution_count": 42,
   "metadata": {},
   "outputs": [],
   "source": [
    "def cervical_cancer(cancer_label):\n",
    "    hil, sch, cit, bio = cancer_label\n",
    "    \n",
    "    return hil+sch+cit+bio\n",
    "\n",
    "labels['cervical_cancer'] = labels[['Hinselmann', \n",
    "                                  'Schiller', \n",
    "                                  'Citology',\n",
    "                                  'Biopsy']].apply(cervical_cancer,\n",
    "                                                   axis=1)"
   ]
  },
  {
   "cell_type": "code",
   "execution_count": 43,
   "metadata": {},
   "outputs": [
    {
     "data": {
      "text/plain": [
       "array([0, 3, 1, 2, 4])"
      ]
     },
     "execution_count": 43,
     "metadata": {},
     "output_type": "execute_result"
    }
   ],
   "source": [
    "labels['cervical_cancer'].unique()"
   ]
  },
  {
   "cell_type": "code",
   "execution_count": 44,
   "metadata": {},
   "outputs": [
    {
     "data": {
      "text/plain": [
       "0    656\n",
       "1     37\n",
       "3     33\n",
       "2     21\n",
       "4      6\n",
       "Name: cervical_cancer, dtype: int64"
      ]
     },
     "execution_count": 44,
     "metadata": {},
     "output_type": "execute_result"
    }
   ],
   "source": [
    "labels[\"cervical_cancer\"].value_counts()"
   ]
  },
  {
   "cell_type": "code",
   "execution_count": 45,
   "metadata": {},
   "outputs": [],
   "source": [
    "labels.drop(['Hinselmann', 'Schiller', 'Citology','Biopsy'],axis=1,inplace=True)"
   ]
  },
  {
   "cell_type": "code",
   "execution_count": 46,
   "metadata": {},
   "outputs": [],
   "source": [
    "label = labels.astype(int)\n",
    "label = label.values.ravel()"
   ]
  },
  {
   "cell_type": "code",
   "execution_count": 47,
   "metadata": {},
   "outputs": [
    {
     "name": "stdout",
     "output_type": "stream",
     "text": [
      "Final feature vector shape: (753, 25)\n",
      "Final target vector shape (753,)\n"
     ]
    }
   ],
   "source": [
    "print('Final feature vector shape:',risk_factors.shape)\n",
    "print('Final target vector shape',label.shape)"
   ]
  },
  {
   "cell_type": "code",
   "execution_count": 48,
   "metadata": {},
   "outputs": [],
   "source": [
    "from sklearn.model_selection import train_test_split\n",
    "X_train, X_test, y_train, y_test = train_test_split(risk_factors, \n",
    "                                                    label, \n",
    "                                                    test_size=0.3, \n",
    "                                                    random_state=5)"
   ]
  },
  {
   "cell_type": "code",
   "execution_count": 49,
   "metadata": {},
   "outputs": [],
   "source": [
    "from sklearn.metrics import confusion_matrix, roc_curve, auc\n",
    "from sklearn.metrics import classification_report\n",
    "from sklearn.metrics import recall_score"
   ]
  },
  {
   "cell_type": "markdown",
   "metadata": {
    "heading_collapsed": true
   },
   "source": [
    "## Logistic Regression"
   ]
  },
  {
   "cell_type": "code",
   "execution_count": null,
   "metadata": {
    "hidden": true
   },
   "outputs": [],
   "source": [
    "from sklearn.linear_model import LogisticRegression\n",
    "\n",
    "# creating the model\n",
    "model = LogisticRegression(solver=\"sag\", \n",
    "                           multi_class=\"ovr\", \n",
    "                           max_iter=5000)\n",
    "\n",
    "# feeding the training data into the model\n",
    "model.fit(X_train, y_train)\n",
    "\n",
    "# predicting the test set results\n",
    "y_pred = model.predict(X_test)\n",
    "\n",
    "# Calculating the accuracies\n",
    "print(\"Training accuracy :\", model.score(X_train, y_train))\n",
    "print(\"Testing accuracy :\", model.score(X_test, y_test))\n",
    "\n",
    "# classification report\n",
    "print(classification_report(y_test, y_pred))\n",
    "\n",
    "# confusion matrix \n",
    "print(confusion_matrix(y_test, y_pred))"
   ]
  },
  {
   "cell_type": "markdown",
   "metadata": {
    "heading_collapsed": true
   },
   "source": [
    "## SVM"
   ]
  },
  {
   "cell_type": "code",
   "execution_count": null,
   "metadata": {
    "hidden": true
   },
   "outputs": [],
   "source": [
    "from sklearn.svm import SVC\n",
    "\n",
    "# creating the model\n",
    "model = SVC(gamma=\"auto\", \n",
    "            kernel='rbf', \n",
    "            class_weight={0:1,1:10,2:10,3:10,4:40})\n",
    "\n",
    "# feeding the training data into the model\n",
    "model.fit(X_train, y_train)\n",
    "\n",
    "# predicting the test set results\n",
    "y_pred = model.predict(X_test)\n",
    "\n",
    "# Calculating the accuracies\n",
    "print(\"Training accuracy :\", model.score(X_train, y_train))\n",
    "print(\"Testing accuracy :\", model.score(X_test, y_test))\n",
    "\n",
    "# classification report\n",
    "print(classification_report(y_test, y_pred))\n",
    "\n",
    "# confusion matrix \n",
    "print(confusion_matrix(y_test, y_pred))"
   ]
  },
  {
   "cell_type": "markdown",
   "metadata": {},
   "source": [
    "## Decision Trees"
   ]
  },
  {
   "cell_type": "code",
   "execution_count": 50,
   "metadata": {},
   "outputs": [
    {
     "name": "stdout",
     "output_type": "stream",
     "text": [
      "Training accuracy : 0.9962049335863378\n",
      "Testing accuracy : 0.7743362831858407\n",
      "              precision    recall  f1-score   support\n",
      "\n",
      "           0       0.89      0.87      0.88       198\n",
      "           1       0.33      0.15      0.21        13\n",
      "           2       0.00      0.00      0.00         4\n",
      "           3       0.10      0.10      0.10        10\n",
      "           4       0.00      0.00      0.00         1\n",
      "\n",
      "    accuracy                           0.77       226\n",
      "   macro avg       0.26      0.22      0.24       226\n",
      "weighted avg       0.80      0.77      0.79       226\n",
      "\n",
      "[[172   3  11   8   4]\n",
      " [ 10   2   0   0   1]\n",
      " [  3   0   0   1   0]\n",
      " [  8   1   0   1   0]\n",
      " [  1   0   0   0   0]]\n"
     ]
    }
   ],
   "source": [
    "from sklearn.tree import DecisionTreeClassifier\n",
    "\n",
    "#creating the model\n",
    "model = DecisionTreeClassifier()\n",
    "\n",
    "# feeding the training data into the model\n",
    "model.fit(X_train, y_train)\n",
    "\n",
    "#predicting the test set results\n",
    "y_pred = model.predict(X_test)\n",
    "\n",
    "# Calculating the accuracies\n",
    "print(\"Training accuracy :\", model.score(X_train, y_train))\n",
    "print(\"Testing accuracy :\", model.score(X_test, y_test))\n",
    "\n",
    "# classification report\n",
    "print(classification_report(y_test, y_pred))\n",
    "\n",
    "# confusion matrix \n",
    "print(confusion_matrix(y_test, y_pred))"
   ]
  },
  {
   "cell_type": "markdown",
   "metadata": {
    "heading_collapsed": true
   },
   "source": [
    "### Decision Tree Visualisation"
   ]
  },
  {
   "cell_type": "code",
   "execution_count": null,
   "metadata": {
    "hidden": true
   },
   "outputs": [],
   "source": [
    "#export_graphviz function converts decision tree classifier into dot file and \n",
    "#pydotplus convert this dot file to #png or displayable form on Jupyter.\n",
    "from sklearn.tree import export_graphviz\n",
    "from sklearn.externals.six import StringIO  \n",
    "from IPython.display import Image  \n",
    "import pydotplus\n",
    "\n",
    "dot_data = StringIO()\n",
    "\n",
    "export_graphviz(model, out_file=dot_data,\n",
    "                feature_names=numerical+categorical,\n",
    "                filled=True, rounded=True,\n",
    "                special_characters=True)\n",
    "    \n",
    "graph = pydotplus.graph_from_dot_data(dot_data.getvalue())  \n",
    "graph.write_png('cervical_cancer.png')\n",
    "Image(graph.create_png())"
   ]
  },
  {
   "cell_type": "markdown",
   "metadata": {},
   "source": [
    "## Random Forest"
   ]
  },
  {
   "cell_type": "code",
   "execution_count": 51,
   "metadata": {},
   "outputs": [
    {
     "name": "stdout",
     "output_type": "stream",
     "text": [
      "Training accuracy : 0.9734345351043643\n",
      "Testing accuracy : 0.8495575221238938\n",
      "              precision    recall  f1-score   support\n",
      "\n",
      "           0       0.87      0.97      0.92       198\n",
      "           1       0.00      0.00      0.00        13\n",
      "           2       0.00      0.00      0.00         4\n",
      "           3       0.00      0.00      0.00        10\n",
      "           4       0.00      0.00      0.00         1\n",
      "\n",
      "    accuracy                           0.85       226\n",
      "   macro avg       0.17      0.19      0.18       226\n",
      "weighted avg       0.76      0.85      0.80       226\n",
      "\n",
      "[[192   2   0   3   1]\n",
      " [ 13   0   0   0   0]\n",
      " [  4   0   0   0   0]\n",
      " [ 10   0   0   0   0]\n",
      " [  1   0   0   0   0]]\n"
     ]
    },
    {
     "name": "stderr",
     "output_type": "stream",
     "text": [
      "/anaconda3/envs/tutor/lib/python3.6/site-packages/sklearn/ensemble/forest.py:245: FutureWarning: The default value of n_estimators will change from 10 in version 0.20 to 100 in 0.22.\n",
      "  \"10 in version 0.20 to 100 in 0.22.\", FutureWarning)\n",
      "/anaconda3/envs/tutor/lib/python3.6/site-packages/sklearn/metrics/classification.py:1437: UndefinedMetricWarning: Precision and F-score are ill-defined and being set to 0.0 in labels with no predicted samples.\n",
      "  'precision', 'predicted', average, warn_for)\n"
     ]
    }
   ],
   "source": [
    "from sklearn.ensemble import RandomForestClassifier\n",
    "\n",
    "# creating the model\n",
    "model = RandomForestClassifier()\n",
    "\n",
    "# feeding the training data into the model\n",
    "model.fit(X_train, y_train)\n",
    "\n",
    "# predicting the test set results\n",
    "y_pred = model.predict(X_test)\n",
    "\n",
    "# Calculating the accuracies\n",
    "print(\"Training accuracy :\", model.score(X_train, y_train))\n",
    "print(\"Testing accuracy :\", model.score(X_test, y_test))\n",
    "\n",
    "# classification report\n",
    "print(classification_report(y_test, y_pred))\n",
    "\n",
    "# confusion matrix \n",
    "print(confusion_matrix(y_test, y_pred))"
   ]
  },
  {
   "cell_type": "markdown",
   "metadata": {},
   "source": [
    "## AdaBoost"
   ]
  },
  {
   "cell_type": "code",
   "execution_count": 53,
   "metadata": {},
   "outputs": [
    {
     "name": "stdout",
     "output_type": "stream",
     "text": [
      "Training accuracy : 0.5806451612903226\n",
      "Testing accuracy : 0.5486725663716814\n",
      "              precision    recall  f1-score   support\n",
      "\n",
      "           0       0.90      0.61      0.73       198\n",
      "           1       0.02      0.08      0.03        13\n",
      "           2       0.00      0.00      0.00         4\n",
      "           3       0.08      0.20      0.11        10\n",
      "           4       0.00      0.00      0.00         1\n",
      "\n",
      "    accuracy                           0.55       226\n",
      "   macro avg       0.20      0.18      0.17       226\n",
      "weighted avg       0.79      0.55      0.64       226\n",
      "\n",
      "[[121  45  10  21   1]\n",
      " [  8   1   2   2   0]\n",
      " [  2   2   0   0   0]\n",
      " [  4   3   1   2   0]\n",
      " [  0   0   0   1   0]]\n"
     ]
    }
   ],
   "source": [
    "from sklearn.ensemble import AdaBoostClassifier\n",
    "\n",
    "# creating the model\n",
    "model = AdaBoostClassifier()\n",
    "\n",
    "# feeding the training data into the model\n",
    "model.fit(X_train, y_train)\n",
    "\n",
    "# predicting the test set results\n",
    "y_pred = model.predict(X_test)\n",
    "\n",
    "# Calculating the accuracies\n",
    "print(\"Training accuracy :\", model.score(X_train, y_train))\n",
    "print(\"Testing accuracy :\", model.score(X_test, y_test))\n",
    "\n",
    "# classification report\n",
    "print(classification_report(y_test, y_pred))\n",
    "\n",
    "# confusion matrix \n",
    "print(confusion_matrix(y_test, y_pred))"
   ]
  },
  {
   "cell_type": "markdown",
   "metadata": {},
   "source": [
    "## XGBoost"
   ]
  },
  {
   "cell_type": "code",
   "execution_count": 56,
   "metadata": {},
   "outputs": [
    {
     "name": "stdout",
     "output_type": "stream",
     "text": [
      "[0]\tvalidation_0-merror:0.146018\n",
      "Will train until validation_0-merror hasn't improved in 10 rounds.\n",
      "[1]\tvalidation_0-merror:0.146018\n",
      "[2]\tvalidation_0-merror:0.141593\n",
      "[3]\tvalidation_0-merror:0.141593\n",
      "[4]\tvalidation_0-merror:0.141593\n",
      "[5]\tvalidation_0-merror:0.132743\n",
      "[6]\tvalidation_0-merror:0.132743\n",
      "[7]\tvalidation_0-merror:0.137168\n",
      "[8]\tvalidation_0-merror:0.128319\n",
      "[9]\tvalidation_0-merror:0.128319\n",
      "[10]\tvalidation_0-merror:0.128319\n",
      "[11]\tvalidation_0-merror:0.128319\n",
      "[12]\tvalidation_0-merror:0.128319\n",
      "[13]\tvalidation_0-merror:0.132743\n",
      "[14]\tvalidation_0-merror:0.132743\n",
      "[15]\tvalidation_0-merror:0.132743\n",
      "[16]\tvalidation_0-merror:0.128319\n",
      "[17]\tvalidation_0-merror:0.132743\n",
      "[18]\tvalidation_0-merror:0.132743\n",
      "Stopping. Best iteration:\n",
      "[8]\tvalidation_0-merror:0.128319\n",
      "\n",
      "Training accuracy : 0.9165085388994307\n",
      "Testing accuracy : 0.8716814159292036\n",
      "              precision    recall  f1-score   support\n",
      "\n",
      "           0       0.88      0.99      0.93       198\n",
      "           1       0.00      0.00      0.00        13\n",
      "           2       0.00      0.00      0.00         4\n",
      "           3       0.50      0.10      0.17        10\n",
      "           4       0.00      0.00      0.00         1\n",
      "\n",
      "    accuracy                           0.87       226\n",
      "   macro avg       0.28      0.22      0.22       226\n",
      "weighted avg       0.79      0.87      0.82       226\n",
      "\n",
      "[[196   1   0   1   0]\n",
      " [ 13   0   0   0   0]\n",
      " [  4   0   0   0   0]\n",
      " [  9   0   0   1   0]\n",
      " [  1   0   0   0   0]]\n"
     ]
    }
   ],
   "source": [
    "import xgboost as xgb\n",
    "\n",
    "eval_set = [(X_test, y_test)]\n",
    "\n",
    "model = xgb.XGBClassifier(gamma=0.024, learning_rate=0.3, \n",
    "                          max_depth=6,\n",
    "                          nthread=4,\n",
    "                          n_estimators=1000,\n",
    "                          objective=\"multi:softmax\")\n",
    "\n",
    "model.silent=True #can also be \"False\"\n",
    "\n",
    "model.fit(X_train,y_train, early_stopping_rounds=10, \n",
    "          eval_set=eval_set,\n",
    "          verbose=True,\n",
    "          eval_metric=\"merror\")\n",
    "\n",
    "# predicting the test set results\n",
    "y_pred = model.predict(X_test)\n",
    "\n",
    "# Calculating the accuracies\n",
    "print(\"Training accuracy :\", model.score(X_train, y_train))\n",
    "print(\"Testing accuracy :\", model.score(X_test, y_test))\n",
    "\n",
    "# classification report\n",
    "print(classification_report(y_test, y_pred))\n",
    "\n",
    "# confusion matrix \n",
    "print(confusion_matrix(y_test, y_pred))"
   ]
  },
  {
   "cell_type": "markdown",
   "metadata": {},
   "source": [
    "## Handling Imbalance in Dataset with Synthetic Minority Over-sampling Technique - SMOTE"
   ]
  },
  {
   "cell_type": "markdown",
   "metadata": {},
   "source": [
    "As there are only 5 data points in the class 4, it is difficult to train and test the model. To overcome this problem of imbalance, oversampling technique is used with SMOTE."
   ]
  },
  {
   "cell_type": "code",
   "execution_count": 57,
   "metadata": {},
   "outputs": [
    {
     "name": "stderr",
     "output_type": "stream",
     "text": [
      "/anaconda3/envs/tutor/lib/python3.6/site-packages/sklearn/externals/six.py:31: DeprecationWarning: The module is deprecated in version 0.21 and will be removed in version 0.23 since we've dropped support for Python 2.7. Please rely on the official version of six (https://pypi.org/project/six/).\n",
      "  \"(https://pypi.org/project/six/).\", DeprecationWarning)\n"
     ]
    }
   ],
   "source": [
    "from imblearn.over_sampling import SMOTE\n",
    "risk_factors_s, label_s = SMOTE(sampling_strategy=\"not majority\", \n",
    "                                k_neighbors=3).fit_resample(risk_factors, label)"
   ]
  },
  {
   "cell_type": "code",
   "execution_count": null,
   "metadata": {},
   "outputs": [],
   "source": [
    "risk_factors_s.shape, label_s.shape"
   ]
  },
  {
   "cell_type": "code",
   "execution_count": 58,
   "metadata": {},
   "outputs": [],
   "source": [
    "from sklearn.model_selection import train_test_split\n",
    "X_train_s, X_test_s, y_train_s, y_test_s = train_test_split(risk_factors_s, label_s, test_size=0.3, random_state=5)"
   ]
  },
  {
   "cell_type": "markdown",
   "metadata": {
    "heading_collapsed": true
   },
   "source": [
    "## Logistic Regression"
   ]
  },
  {
   "cell_type": "code",
   "execution_count": null,
   "metadata": {
    "hidden": true
   },
   "outputs": [],
   "source": [
    "from sklearn.linear_model import LogisticRegression\n",
    "from sklearn.metrics import confusion_matrix, roc_curve, auc\n",
    "from sklearn.metrics import classification_report\n",
    "from sklearn.metrics import recall_score\n",
    "\n",
    "# creating the model\n",
    "model = LogisticRegression(solver=\"sag\", multi_class=\"ovr\", max_iter=5000)\n",
    "\n",
    "# feeding the training data into the model\n",
    "model.fit(X_train_s, y_train_s)\n",
    "\n",
    "# predicting the test set results\n",
    "y_pred_s = model.predict(X_test_s)\n",
    "\n",
    "# Calculating the accuracies\n",
    "print(\"Training accuracy :\", model.score(X_train_s, y_train_s))\n",
    "print(\"Testing accuracy :\", model.score(X_test_s, y_test_s))\n",
    "\n",
    "# classification report\n",
    "print(classification_report(y_test_s, y_pred_s))"
   ]
  },
  {
   "cell_type": "markdown",
   "metadata": {
    "heading_collapsed": true
   },
   "source": [
    "## SVM"
   ]
  },
  {
   "cell_type": "code",
   "execution_count": null,
   "metadata": {
    "hidden": true
   },
   "outputs": [],
   "source": [
    "from sklearn.svm import SVC\n",
    "\n",
    "# creating the model\n",
    "model = SVC(gamma=\"auto\", kernel='rbf')\n",
    "\n",
    "# feeding the training data into the model\n",
    "model.fit(X_train_s, y_train_s)\n",
    "\n",
    "# predicting the test set results\n",
    "y_pred_s = model.predict(X_test_s)\n",
    "\n",
    "# Calculating the accuracies\n",
    "print(\"Training accuracy :\", model.score(X_train_s, y_train_s))\n",
    "print(\"Testing accuracy :\", model.score(X_test_s, y_test_s))\n",
    "\n",
    "# classification report\n",
    "print(classification_report(y_test_s, y_pred_s))\n",
    "\n",
    "# confusion matrix \n",
    "print(confusion_matrix(y_test_s, y_pred_s))"
   ]
  },
  {
   "cell_type": "markdown",
   "metadata": {
    "heading_collapsed": true
   },
   "source": [
    "## Decision Trees"
   ]
  },
  {
   "cell_type": "code",
   "execution_count": null,
   "metadata": {
    "hidden": true
   },
   "outputs": [],
   "source": [
    "from sklearn.tree import DecisionTreeClassifier\n",
    "\n",
    "# creating the model\n",
    "model_s = DecisionTreeClassifier()\n",
    "\n",
    "# feeding the training data into the model\n",
    "model_s.fit(X_train_s, y_train_s)\n",
    "\n",
    "# predicting the test set results\n",
    "y_pred_s = model_s.predict(X_test_s)\n",
    "\n",
    "# Calculating the accuracies\n",
    "print(\"Training accuracy :\", model_s.score(X_train_s, y_train_s))\n",
    "print(\"Testing accuracy :\", model_s.score(X_test_s, y_test_s))\n",
    "\n",
    "# classification report\n",
    "print(classification_report(y_test_s, y_pred_s))\n",
    "\n",
    "# confusion matrix \n",
    "print(confusion_matrix(y_test_s, y_pred_s))"
   ]
  },
  {
   "cell_type": "markdown",
   "metadata": {
    "heading_collapsed": true
   },
   "source": [
    "## Random Forest"
   ]
  },
  {
   "cell_type": "code",
   "execution_count": null,
   "metadata": {
    "hidden": true
   },
   "outputs": [],
   "source": [
    "from sklearn.ensemble import RandomForestClassifier\n",
    "\n",
    "# creating the model\n",
    "model_rf = RandomForestClassifier()\n",
    "\n",
    "# feeding the training data into the model\n",
    "model_rf.fit(X_train_s, y_train_s)\n",
    "\n",
    "# predicting the test set results\n",
    "y_pred_s = model_rf.predict(X_test_s)\n",
    "\n",
    "# Calculating the accuracies\n",
    "print(\"Training accuracy :\", model_rf.score(X_train_s, y_train_s))\n",
    "print(\"Testing accuracy :\", model_rf.score(X_test_s, y_test_s))\n",
    "\n",
    "# classification report\n",
    "print(classification_report(y_test_s, y_pred_s))\n",
    "\n",
    "# confusion matrix \n",
    "print(confusion_matrix(y_test_s, y_pred_s))"
   ]
  },
  {
   "cell_type": "markdown",
   "metadata": {
    "heading_collapsed": true
   },
   "source": [
    "## AdaBoost"
   ]
  },
  {
   "cell_type": "code",
   "execution_count": null,
   "metadata": {
    "hidden": true
   },
   "outputs": [],
   "source": [
    "from sklearn.ensemble import AdaBoostClassifier\n",
    "\n",
    "# creating the model\n",
    "model = AdaBoostClassifier()\n",
    "\n",
    "# feeding the training data into the model\n",
    "model.fit(X_train_s, y_train_s)\n",
    "\n",
    "# predicting the test set results\n",
    "y_pred_s = model.predict(X_test_s)\n",
    "\n",
    "# Calculating the accuracies\n",
    "print(\"Training accuracy :\", model.score(X_train_s, y_train_s))\n",
    "print(\"Testing accuracy :\", model.score(X_test_s, y_test_s))\n",
    "\n",
    "# classification report\n",
    "print(classification_report(y_test_s, y_pred_s))\n",
    "\n",
    "# confusion matrix \n",
    "print(confusion_matrix(y_test_s, y_pred_s))"
   ]
  },
  {
   "cell_type": "markdown",
   "metadata": {},
   "source": [
    "## XgBoost"
   ]
  },
  {
   "cell_type": "code",
   "execution_count": 59,
   "metadata": {},
   "outputs": [
    {
     "name": "stdout",
     "output_type": "stream",
     "text": [
      "[0]\tvalidation_0-merror:0.182927\n",
      "Will train until validation_0-merror hasn't improved in 10 rounds.\n",
      "[1]\tvalidation_0-merror:0.164634\n",
      "[2]\tvalidation_0-merror:0.139228\n",
      "[3]\tvalidation_0-merror:0.120935\n",
      "[4]\tvalidation_0-merror:0.118902\n",
      "[5]\tvalidation_0-merror:0.111789\n",
      "[6]\tvalidation_0-merror:0.097561\n",
      "[7]\tvalidation_0-merror:0.086382\n",
      "[8]\tvalidation_0-merror:0.08435\n",
      "[9]\tvalidation_0-merror:0.077236\n",
      "[10]\tvalidation_0-merror:0.071138\n",
      "[11]\tvalidation_0-merror:0.066057\n",
      "[12]\tvalidation_0-merror:0.068089\n",
      "[13]\tvalidation_0-merror:0.064024\n",
      "[14]\tvalidation_0-merror:0.066057\n",
      "[15]\tvalidation_0-merror:0.065041\n",
      "[16]\tvalidation_0-merror:0.061992\n",
      "[17]\tvalidation_0-merror:0.058943\n",
      "[18]\tvalidation_0-merror:0.063008\n",
      "[19]\tvalidation_0-merror:0.058943\n",
      "[20]\tvalidation_0-merror:0.056911\n",
      "[21]\tvalidation_0-merror:0.055894\n",
      "[22]\tvalidation_0-merror:0.055894\n",
      "[23]\tvalidation_0-merror:0.054878\n",
      "[24]\tvalidation_0-merror:0.057927\n",
      "[25]\tvalidation_0-merror:0.056911\n",
      "[26]\tvalidation_0-merror:0.053862\n",
      "[27]\tvalidation_0-merror:0.053862\n",
      "[28]\tvalidation_0-merror:0.050813\n",
      "[29]\tvalidation_0-merror:0.050813\n",
      "[30]\tvalidation_0-merror:0.04878\n",
      "[31]\tvalidation_0-merror:0.049797\n",
      "[32]\tvalidation_0-merror:0.047764\n",
      "[33]\tvalidation_0-merror:0.047764\n",
      "[34]\tvalidation_0-merror:0.04878\n",
      "[35]\tvalidation_0-merror:0.047764\n",
      "[36]\tvalidation_0-merror:0.04878\n",
      "[37]\tvalidation_0-merror:0.047764\n",
      "[38]\tvalidation_0-merror:0.047764\n",
      "[39]\tvalidation_0-merror:0.04878\n",
      "[40]\tvalidation_0-merror:0.04878\n",
      "[41]\tvalidation_0-merror:0.04878\n",
      "[42]\tvalidation_0-merror:0.04878\n",
      "Stopping. Best iteration:\n",
      "[32]\tvalidation_0-merror:0.047764\n",
      "\n",
      "Training accuracy : 0.9960801393728222\n",
      "Testing accuracy : 0.9522357723577236\n",
      "              precision    recall  f1-score   support\n",
      "\n",
      "           0       0.87      0.96      0.91       192\n",
      "           1       0.96      0.95      0.95       184\n",
      "           2       0.97      0.96      0.97       200\n",
      "           3       0.98      0.90      0.94       200\n",
      "           4       0.99      1.00      0.99       208\n",
      "\n",
      "    accuracy                           0.95       984\n",
      "   macro avg       0.95      0.95      0.95       984\n",
      "weighted avg       0.95      0.95      0.95       984\n",
      "\n",
      "[[184   2   4   2   0]\n",
      " [  7 174   0   1   2]\n",
      " [  6   1 192   1   0]\n",
      " [ 14   5   1 180   0]\n",
      " [  1   0   0   0 207]]\n"
     ]
    }
   ],
   "source": [
    "import xgboost as xgb\n",
    "\n",
    "eval_set = [(X_test_s, y_test_s)]\n",
    "\n",
    "model_xgbs = xgb.XGBClassifier(gamma=0.024, learning_rate=0.3, \n",
    "                          max_depth=6,\n",
    "                          nthread=4,\n",
    "                          n_estimators=1000,\n",
    "                          objective=\"multi:softmax\")\n",
    "\n",
    "model_xgbs.silent=False\n",
    "\n",
    "model_xgbs.fit(X_train_s,y_train_s, early_stopping_rounds=10, \n",
    "          eval_set=eval_set,\n",
    "          verbose=True,\n",
    "          eval_metric=\"merror\") #https://xgboost.readthedocs.io/en/latest/parameter.html\n",
    "\n",
    "# predicting the test set results\n",
    "y_pred_s = model_xgbs.predict(X_test_s)\n",
    "\n",
    "# Calculating the accuracies\n",
    "print(\"Training accuracy :\", model_xgbs.score(X_train_s, y_train_s))\n",
    "print(\"Testing accuracy :\", model_xgbs.score(X_test_s, y_test_s))\n",
    "\n",
    "# classification report\n",
    "print(classification_report(y_test_s, y_pred_s))\n",
    "\n",
    "# confusion matrix \n",
    "print(confusion_matrix(y_test_s, y_pred_s))"
   ]
  },
  {
   "cell_type": "code",
   "execution_count": null,
   "metadata": {},
   "outputs": [],
   "source": []
  },
  {
   "cell_type": "markdown",
   "metadata": {},
   "source": [
    "### References:\n",
    "\n",
    "- https://ieeexplore.ieee.org/stamp/stamp.jsp?tp=&arnumber=8070120\n",
    "- https://www.youtube.com/watch?v=TFPhhioOuZc"
   ]
  }
 ],
 "metadata": {
  "kernelspec": {
   "display_name": "Python 3",
   "language": "python",
   "name": "python3"
  },
  "language_info": {
   "codemirror_mode": {
    "name": "ipython",
    "version": 3
   },
   "file_extension": ".py",
   "mimetype": "text/x-python",
   "name": "python",
   "nbconvert_exporter": "python",
   "pygments_lexer": "ipython3",
   "version": "3.6.5"
  }
 },
 "nbformat": 4,
 "nbformat_minor": 2
}
